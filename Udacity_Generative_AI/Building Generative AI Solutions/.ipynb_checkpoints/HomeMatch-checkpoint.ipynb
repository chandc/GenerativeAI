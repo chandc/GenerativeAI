{
 "cells": [
  {
   "cell_type": "markdown",
   "id": "a108af04",
   "metadata": {},
   "source": [
    "This notebook conducts the following tasks to assist a potential buyer in finding a home that will meet a set of prescribed preferences:\n",
    "\n",
    "1. loads a real estate listing from a CSV file, \n",
    "2. creates embeddings for the property description of each listing and stores them in the Chroma vectorstore for query,\n",
    "3. collects home and neighborhood preferences from a potential buyer,\n",
    "4. uses the retriever utility function in LangChain to locate a set of listings that best match the user-provided preferences in home size and budget,\n",
    "5. uses GPT-3-turbo-0125 language model to provide a summary description for each home that resonates with the potential buyer."
   ]
  },
  {
   "cell_type": "code",
   "execution_count": 1,
   "id": "17c54c62-0ecd-46b5-98f6-70c66cc6e640",
   "metadata": {},
   "outputs": [],
   "source": [
    "import json\n",
    "import pandas as pd\n",
    "\n",
    "from langchain.vectorstores import Chroma\n",
    "from langchain_core.prompts import ChatPromptTemplate\n",
    "from langchain_openai import ChatOpenAI\n",
    "\n",
    "from langchain_openai import OpenAIEmbeddings\n",
    "\n",
    "from langchain_core.output_parsers import StrOutputParser\n",
    "from langchain_core.runnables import RunnablePassthrough\n",
    "\n",
    "from langchain_community.document_loaders import CSVLoader\n",
    "from langchain_community.document_loaders import DataFrameLoader\n",
    "\n",
    "from langchain.docstore.document import Document\n",
    "\n",
    "\n",
    "import ipywidgets as widgets\n",
    "from widgets import slider, textML, RB\n",
    "\n",
    "import os\n",
    "from dotenv import load_dotenv, find_dotenv\n"
   ]
  },
  {
   "cell_type": "code",
   "execution_count": 2,
   "id": "112cb4df-6989-4806-8d3a-1a32179acb05",
   "metadata": {},
   "outputs": [],
   "source": [
    "#\n",
    "# look up API key from the .env file\n",
    "#\n",
    "_ = load_dotenv(find_dotenv()) # read local .env file\n"
   ]
  },
  {
   "cell_type": "code",
   "execution_count": 3,
   "id": "330297e0-36b6-47a8-9ed8-e9beb35f9a6c",
   "metadata": {},
   "outputs": [
    {
     "data": {
      "text/html": [
       "<div>\n",
       "<style scoped>\n",
       "    .dataframe tbody tr th:only-of-type {\n",
       "        vertical-align: middle;\n",
       "    }\n",
       "\n",
       "    .dataframe tbody tr th {\n",
       "        vertical-align: top;\n",
       "    }\n",
       "\n",
       "    .dataframe thead th {\n",
       "        text-align: right;\n",
       "    }\n",
       "</style>\n",
       "<table border=\"1\" class=\"dataframe\">\n",
       "  <thead>\n",
       "    <tr style=\"text-align: right;\">\n",
       "      <th></th>\n",
       "      <th>Listing Number</th>\n",
       "      <th>Neighborhood</th>\n",
       "      <th>Price</th>\n",
       "      <th>Bedrooms</th>\n",
       "      <th>Bathrooms</th>\n",
       "      <th>House Size</th>\n",
       "      <th>House Description</th>\n",
       "      <th>Neighborhood Description</th>\n",
       "    </tr>\n",
       "  </thead>\n",
       "  <tbody>\n",
       "    <tr>\n",
       "      <th>0</th>\n",
       "      <td>L000001</td>\n",
       "      <td>West Lake Village</td>\n",
       "      <td>$800,000</td>\n",
       "      <td>3</td>\n",
       "      <td>2.0</td>\n",
       "      <td>2,500 sqft</td>\n",
       "      <td>Welcome to this charming home nestled in the h...</td>\n",
       "      <td>This home is situated in a quiet and friendly ...</td>\n",
       "    </tr>\n",
       "    <tr>\n",
       "      <th>1</th>\n",
       "      <td>L000002</td>\n",
       "      <td>Agoura Hills</td>\n",
       "      <td>$900,000</td>\n",
       "      <td>3</td>\n",
       "      <td>2.5</td>\n",
       "      <td>2,200 sqft</td>\n",
       "      <td>This stunning home in Agoura Hills offers a pe...</td>\n",
       "      <td>Located in the desirable Agoura Hills communit...</td>\n",
       "    </tr>\n",
       "    <tr>\n",
       "      <th>2</th>\n",
       "      <td>L000003</td>\n",
       "      <td>Newbury Park</td>\n",
       "      <td>$850,000</td>\n",
       "      <td>4</td>\n",
       "      <td>2.5</td>\n",
       "      <td>2,100 sqft</td>\n",
       "      <td>Welcome to this beautifully updated home in Ne...</td>\n",
       "      <td>This home is located in a friendly and family-...</td>\n",
       "    </tr>\n",
       "    <tr>\n",
       "      <th>3</th>\n",
       "      <td>L000004</td>\n",
       "      <td>Oak Park</td>\n",
       "      <td>$750,000</td>\n",
       "      <td>3</td>\n",
       "      <td>2.0</td>\n",
       "      <td>2,100 sqft</td>\n",
       "      <td>This charming home in Oak Park offers a perfec...</td>\n",
       "      <td>Located in a peaceful and picturesque neighbor...</td>\n",
       "    </tr>\n",
       "    <tr>\n",
       "      <th>4</th>\n",
       "      <td>L000005</td>\n",
       "      <td>Dos Vientos</td>\n",
       "      <td>$950,000</td>\n",
       "      <td>4</td>\n",
       "      <td>3.0</td>\n",
       "      <td>2,400 sqft</td>\n",
       "      <td>This stunning home in Dos Vientos offers luxur...</td>\n",
       "      <td>Located in the highly desirable Dos Vientos co...</td>\n",
       "    </tr>\n",
       "  </tbody>\n",
       "</table>\n",
       "</div>"
      ],
      "text/plain": [
       "  Listing Number       Neighborhood     Price  Bedrooms  Bathrooms  \\\n",
       "0        L000001  West Lake Village  $800,000         3        2.0   \n",
       "1        L000002       Agoura Hills  $900,000         3        2.5   \n",
       "2        L000003       Newbury Park  $850,000         4        2.5   \n",
       "3        L000004           Oak Park  $750,000         3        2.0   \n",
       "4        L000005        Dos Vientos  $950,000         4        3.0   \n",
       "\n",
       "   House Size                                  House Description  \\\n",
       "0  2,500 sqft  Welcome to this charming home nestled in the h...   \n",
       "1  2,200 sqft  This stunning home in Agoura Hills offers a pe...   \n",
       "2  2,100 sqft  Welcome to this beautifully updated home in Ne...   \n",
       "3  2,100 sqft  This charming home in Oak Park offers a perfec...   \n",
       "4  2,400 sqft  This stunning home in Dos Vientos offers luxur...   \n",
       "\n",
       "                            Neighborhood Description  \n",
       "0  This home is situated in a quiet and friendly ...  \n",
       "1  Located in the desirable Agoura Hills communit...  \n",
       "2  This home is located in a friendly and family-...  \n",
       "3  Located in a peaceful and picturesque neighbor...  \n",
       "4  Located in the highly desirable Dos Vientos co...  "
      ]
     },
     "execution_count": 3,
     "metadata": {},
     "output_type": "execute_result"
    }
   ],
   "source": [
    "#\n",
    "# load the listing database from a csv file\n",
    "#\n",
    "\n",
    "df = pd.read_csv(\"./home_listing.csv\")\n",
    "\n",
    "df.head()"
   ]
  },
  {
   "cell_type": "code",
   "execution_count": 4,
   "id": "0044fd67-0b80-491e-b676-c1fd6b7074e2",
   "metadata": {},
   "outputs": [
    {
     "name": "stdout",
     "output_type": "stream",
     "text": [
      "There are 70 listings\n"
     ]
    }
   ],
   "source": [
    "print(f\"There are {df.shape[0]} listings\")"
   ]
  },
  {
   "cell_type": "code",
   "execution_count": 5,
   "id": "4256f0f3-3e90-42d9-b0ce-a4dcce393d43",
   "metadata": {},
   "outputs": [
    {
     "data": {
      "text/plain": [
       "(70, 8)"
      ]
     },
     "execution_count": 5,
     "metadata": {},
     "output_type": "execute_result"
    }
   ],
   "source": [
    "df.shape"
   ]
  },
  {
   "cell_type": "code",
   "execution_count": 6,
   "id": "65d30c81-0a7d-4ed0-bb61-031c3b3d6ef7",
   "metadata": {},
   "outputs": [],
   "source": [
    "#\n",
    "# remove duplicate records\n",
    "#\n",
    "\n",
    "df = df.drop_duplicates(subset=['Listing Number'])\n"
   ]
  },
  {
   "cell_type": "code",
   "execution_count": 7,
   "id": "875b0819-397c-4e2f-acf2-29f22c66feb0",
   "metadata": {},
   "outputs": [
    {
     "data": {
      "text/plain": [
       "(51, 8)"
      ]
     },
     "execution_count": 7,
     "metadata": {},
     "output_type": "execute_result"
    }
   ],
   "source": [
    "df.shape"
   ]
  },
  {
   "cell_type": "code",
   "execution_count": 8,
   "id": "7a6f57cc-809c-4e2b-8bd9-08ecf797d83e",
   "metadata": {},
   "outputs": [],
   "source": [
    "df[\"Price\"] = df.apply(lambda row: int(row[\"Price\"][1:].replace(\",\",\"\")), axis=1)"
   ]
  },
  {
   "cell_type": "code",
   "execution_count": 9,
   "id": "3fe86f3a-b0ed-41a6-a0dd-e228bd80f11f",
   "metadata": {},
   "outputs": [],
   "source": [
    "df[\"Features\"] =  df.apply(\n",
    "                lambda row: Document(page_content=row[\"House Description\"]+ ' ' + row[\"Neighborhood Description\"], \n",
    "                                     metadata={\"LN\": row[\"Listing Number\"], \"Price\": row[\"Price\"], \"Size\": row[\"House Size\"],\n",
    "                                              \"Bedrooms\": row[\"Bedrooms\"], \"Bathrooms\": row[\"Bathrooms\"]\n",
    "                                              } ), axis=1\n",
    "          )"
   ]
  },
  {
   "cell_type": "code",
   "execution_count": 10,
   "id": "0c95cc3e-58ac-4c6d-825c-8bbfdeef540a",
   "metadata": {},
   "outputs": [
    {
     "data": {
      "text/html": [
       "<div>\n",
       "<style scoped>\n",
       "    .dataframe tbody tr th:only-of-type {\n",
       "        vertical-align: middle;\n",
       "    }\n",
       "\n",
       "    .dataframe tbody tr th {\n",
       "        vertical-align: top;\n",
       "    }\n",
       "\n",
       "    .dataframe thead th {\n",
       "        text-align: right;\n",
       "    }\n",
       "</style>\n",
       "<table border=\"1\" class=\"dataframe\">\n",
       "  <thead>\n",
       "    <tr style=\"text-align: right;\">\n",
       "      <th></th>\n",
       "      <th>Listing Number</th>\n",
       "      <th>Neighborhood</th>\n",
       "      <th>Price</th>\n",
       "      <th>Bedrooms</th>\n",
       "      <th>Bathrooms</th>\n",
       "      <th>House Size</th>\n",
       "      <th>House Description</th>\n",
       "      <th>Neighborhood Description</th>\n",
       "      <th>Features</th>\n",
       "    </tr>\n",
       "  </thead>\n",
       "  <tbody>\n",
       "    <tr>\n",
       "      <th>0</th>\n",
       "      <td>L000001</td>\n",
       "      <td>West Lake Village</td>\n",
       "      <td>800000</td>\n",
       "      <td>3</td>\n",
       "      <td>2.0</td>\n",
       "      <td>2,500 sqft</td>\n",
       "      <td>Welcome to this charming home nestled in the h...</td>\n",
       "      <td>This home is situated in a quiet and friendly ...</td>\n",
       "      <td>page_content=\"Welcome to this charming home ne...</td>\n",
       "    </tr>\n",
       "    <tr>\n",
       "      <th>1</th>\n",
       "      <td>L000002</td>\n",
       "      <td>Agoura Hills</td>\n",
       "      <td>900000</td>\n",
       "      <td>3</td>\n",
       "      <td>2.5</td>\n",
       "      <td>2,200 sqft</td>\n",
       "      <td>This stunning home in Agoura Hills offers a pe...</td>\n",
       "      <td>Located in the desirable Agoura Hills communit...</td>\n",
       "      <td>page_content=\"This stunning home in Agoura Hil...</td>\n",
       "    </tr>\n",
       "    <tr>\n",
       "      <th>2</th>\n",
       "      <td>L000003</td>\n",
       "      <td>Newbury Park</td>\n",
       "      <td>850000</td>\n",
       "      <td>4</td>\n",
       "      <td>2.5</td>\n",
       "      <td>2,100 sqft</td>\n",
       "      <td>Welcome to this beautifully updated home in Ne...</td>\n",
       "      <td>This home is located in a friendly and family-...</td>\n",
       "      <td>page_content=\"Welcome to this beautifully upda...</td>\n",
       "    </tr>\n",
       "    <tr>\n",
       "      <th>3</th>\n",
       "      <td>L000004</td>\n",
       "      <td>Oak Park</td>\n",
       "      <td>750000</td>\n",
       "      <td>3</td>\n",
       "      <td>2.0</td>\n",
       "      <td>2,100 sqft</td>\n",
       "      <td>This charming home in Oak Park offers a perfec...</td>\n",
       "      <td>Located in a peaceful and picturesque neighbor...</td>\n",
       "      <td>page_content=\"This charming home in Oak Park o...</td>\n",
       "    </tr>\n",
       "    <tr>\n",
       "      <th>4</th>\n",
       "      <td>L000005</td>\n",
       "      <td>Dos Vientos</td>\n",
       "      <td>950000</td>\n",
       "      <td>4</td>\n",
       "      <td>3.0</td>\n",
       "      <td>2,400 sqft</td>\n",
       "      <td>This stunning home in Dos Vientos offers luxur...</td>\n",
       "      <td>Located in the highly desirable Dos Vientos co...</td>\n",
       "      <td>page_content=\"This stunning home in Dos Viento...</td>\n",
       "    </tr>\n",
       "  </tbody>\n",
       "</table>\n",
       "</div>"
      ],
      "text/plain": [
       "  Listing Number       Neighborhood   Price  Bedrooms  Bathrooms  House Size  \\\n",
       "0        L000001  West Lake Village  800000         3        2.0  2,500 sqft   \n",
       "1        L000002       Agoura Hills  900000         3        2.5  2,200 sqft   \n",
       "2        L000003       Newbury Park  850000         4        2.5  2,100 sqft   \n",
       "3        L000004           Oak Park  750000         3        2.0  2,100 sqft   \n",
       "4        L000005        Dos Vientos  950000         4        3.0  2,400 sqft   \n",
       "\n",
       "                                   House Description  \\\n",
       "0  Welcome to this charming home nestled in the h...   \n",
       "1  This stunning home in Agoura Hills offers a pe...   \n",
       "2  Welcome to this beautifully updated home in Ne...   \n",
       "3  This charming home in Oak Park offers a perfec...   \n",
       "4  This stunning home in Dos Vientos offers luxur...   \n",
       "\n",
       "                            Neighborhood Description  \\\n",
       "0  This home is situated in a quiet and friendly ...   \n",
       "1  Located in the desirable Agoura Hills communit...   \n",
       "2  This home is located in a friendly and family-...   \n",
       "3  Located in a peaceful and picturesque neighbor...   \n",
       "4  Located in the highly desirable Dos Vientos co...   \n",
       "\n",
       "                                            Features  \n",
       "0  page_content=\"Welcome to this charming home ne...  \n",
       "1  page_content=\"This stunning home in Agoura Hil...  \n",
       "2  page_content=\"Welcome to this beautifully upda...  \n",
       "3  page_content=\"This charming home in Oak Park o...  \n",
       "4  page_content=\"This stunning home in Dos Viento...  "
      ]
     },
     "execution_count": 10,
     "metadata": {},
     "output_type": "execute_result"
    }
   ],
   "source": [
    "df.head()\n",
    "    "
   ]
  },
  {
   "cell_type": "code",
   "execution_count": 11,
   "id": "f2f300fa-1996-4bdf-9700-c7abd29a2eb5",
   "metadata": {},
   "outputs": [],
   "source": [
    "#df.dtypes"
   ]
  },
  {
   "cell_type": "code",
   "execution_count": 12,
   "id": "a8ba08f2-48c1-4b09-9cde-b22cb43db441",
   "metadata": {},
   "outputs": [
    {
     "name": "stdout",
     "output_type": "stream",
     "text": [
      "input_variables=['context', 'question'] messages=[HumanMessagePromptTemplate(prompt=PromptTemplate(input_variables=['context', 'question'], template='You are a professional real estate agent assisting home buyers. \\nUse the retrieved Listings below to identify which ones can best match the given Preferences. \\nYou can select up to 3 items from the Listings for each Answer. \\nThe Answer should start in a new line with the message: \\n\"## Thank you for your interest, home(s) that best meet your preferences are: ##\"\\nEach offered item must start in a separate line with all the metadata that include \"LN\", \"Price\", \"Size\", \"Bedrooms\", \"Bathrooms\" ** no exceptions **. \\nThey are then followed by a tailored description of the listing that resonates with buyer\\'s preferences, \\ntry to subtly emphasize aspects of the property that align with what the buyer is looking for, however, ** they MUST be factual and you cannot make things up **.\\nYou must strictly adhere to these instructions. Do not provide any other information not asked for.\\nPreferences: {question} \\nListings: {context} \\nAnswer:\\n'))]\n"
     ]
    }
   ],
   "source": [
    "#\n",
    "# set up the chat prompt template with system instructions\n",
    "#\n",
    "template = \"\"\"You are a professional real estate agent assisting home buyers. \n",
    "Use the retrieved Listings below to identify which ones can best match the given Preferences. \n",
    "You can select up to 3 items from the Listings for each Answer. \n",
    "The Answer should start in a new line with the message: \n",
    "\"## Thank you for your interest, home(s) that best meet your preferences are: ##\"\n",
    "Each offered item must start in a separate line with all the metadata that include \"LN\", \"Price\", \"Size\", \"Bedrooms\", \"Bathrooms\" ** no exceptions **. \n",
    "They are then followed by a tailored description of the listing that resonates with buyer's preferences, \n",
    "try to subtly emphasize aspects of the property that align with what the buyer is looking for, however, ** they MUST be factual and you cannot make things up **.\n",
    "You must strictly adhere to these instructions. Do not provide any other information not asked for.\n",
    "Preferences: {question} \n",
    "Listings: {context} \n",
    "Answer:\n",
    "\"\"\"\n",
    "prompt = ChatPromptTemplate.from_template(template)\n",
    "\n",
    "print(prompt)"
   ]
  },
  {
   "cell_type": "code",
   "execution_count": 13,
   "id": "613f4404-aa91-44c0-ad37-cad0915d7721",
   "metadata": {},
   "outputs": [
    {
     "data": {
      "application/vnd.jupyter.widget-view+json": {
       "model_id": "6251b8a4ca3d4e1ca0eecaccc7bc39b5",
       "version_major": 2,
       "version_minor": 0
      },
      "text/plain": [
       "VBox(children=(IntSlider(value=800000, description='Budget in $:', max=1000000, min=700000, step=50000), HBox(…"
      ]
     },
     "metadata": {},
     "output_type": "display_data"
    }
   ],
   "source": [
    "#\n",
    "# set up widgets to collect user input iteractively\n",
    "#\n",
    "preferences = textML(\"preferences:\",\"e.g. house amenities, style, neighborhood and transportation\")\n",
    "budget = slider(\"Budget in $:\", 800000, 700000, 1000000, 50000)\n",
    "bedroom = RB([2,3,4,5],3, \"number of bedrooms:\")\n",
    "bathroom = RB([2,2.5,3],2, \"number of bathrooms:\")\n",
    "rooms = widgets.HBox([bedroom, bathroom])\n",
    "\n",
    "box = widgets.VBox([budget, rooms, preferences])\n",
    "display(box)"
   ]
  },
  {
   "cell_type": "code",
   "execution_count": 57,
   "id": "009e3a1a-a001-4165-81d5-5c5f148946d5",
   "metadata": {},
   "outputs": [
    {
     "name": "stdout",
     "output_type": "stream",
     "text": [
      "Budget is $1000000\n",
      "Minimum number of bedrooms is 3\n",
      "Minimum number of bathrooms is 2.5\n",
      "Preferences listed: a gourmet kitchen, large family room with lots of windows, fenced backyard with a BBQ grill, near top-rated schools and recreational areas, lots of tree and away from city center, low crime rate.\n",
      "\n"
     ]
    }
   ],
   "source": [
    "print(f\"Budget is ${budget.value}\")\n",
    "print(f\"Minimum number of bedrooms is {bedroom.value}\")\n",
    "print(f\"Minimum number of bathrooms is {bathroom.value}\")\n",
    "print(f\"Preferences listed: {preferences.value}\")\n"
   ]
  },
  {
   "cell_type": "code",
   "execution_count": 58,
   "id": "1c94ee35-4efb-4534-81b8-c540d4fd1d8d",
   "metadata": {},
   "outputs": [],
   "source": [
    "d_list = df[ (df[\"Price\"] <= budget.value) & (df[\"Bedrooms\"] >= bedroom.value) & (df[\"Bathrooms\"] >= bathroom.value) ][\"Features\"] "
   ]
  },
  {
   "cell_type": "code",
   "execution_count": 59,
   "id": "fb84c354-d638-4eb3-ad5b-9a06564e32f3",
   "metadata": {},
   "outputs": [],
   "source": [
    "data = []\n",
    "for d in d_list:\n",
    "    data.append(d)\n",
    "    "
   ]
  },
  {
   "cell_type": "code",
   "execution_count": 60,
   "id": "69fd69d9-3b37-4896-9459-510c55920697",
   "metadata": {},
   "outputs": [
    {
     "name": "stdout",
     "output_type": "stream",
     "text": [
      "11 on the shortlist\n"
     ]
    }
   ],
   "source": [
    "print(f\"{len(d_list)} on the shortlist\")"
   ]
  },
  {
   "cell_type": "code",
   "execution_count": 61,
   "id": "e8088629-7b24-4955-8b48-c136cf15539e",
   "metadata": {},
   "outputs": [
    {
     "name": "stdout",
     "output_type": "stream",
     "text": [
      "Find me home listings with a gourmet kitchen, large family room with lots of windows, fenced backyard with a BBQ grill, near top-rated schools and recreational areas, lots of tree and away from city center, low crime rate.\n",
      "\n"
     ]
    }
   ],
   "source": [
    "question = f\"Find me home listings with {preferences.value}\"\n",
    "\n",
    "print(question)"
   ]
  },
  {
   "cell_type": "code",
   "execution_count": 62,
   "id": "0e51aa3f-829f-4631-95d9-bb4f221ca81e",
   "metadata": {},
   "outputs": [],
   "source": [
    "if (len(data)==0): print(\"** sorry! no listing in the inventory will meet your perferences, please modify your inputs **\")"
   ]
  },
  {
   "cell_type": "code",
   "execution_count": 63,
   "id": "cf96f79b-f166-4201-b56a-6acd44767834",
   "metadata": {},
   "outputs": [],
   "source": [
    "#\n",
    "# set up embeddings and Chroma vectorstore\n",
    "#\n",
    "docsearch = Chroma.from_documents(data, OpenAIEmbeddings())\n",
    "retriever = docsearch.as_retriever()"
   ]
  },
  {
   "cell_type": "code",
   "execution_count": 64,
   "id": "74455a83-5e98-4582-87a3-b36babb98314",
   "metadata": {},
   "outputs": [],
   "source": [
    "docs = docsearch.similarity_search_with_score(question)"
   ]
  },
  {
   "cell_type": "code",
   "execution_count": 65,
   "id": "51342693-beeb-44f4-bc05-020497e3a044",
   "metadata": {},
   "outputs": [
    {
     "data": {
      "text/plain": [
       "[(Document(page_content=\"Nestled in the highly sought-after Oak Park community, this stunning home offers the perfect blend of luxury and comfort. The open and bright floor plan features a gourmet kitchen with granite countertops, high-end appliances, and a large island. The spacious living and dining area feature soaring ceilings, a cozy fireplace, and large windows that look out onto the backyard. The master suite is a true oasis, with a luxurious en-suite bathroom and a private balcony overlooking the mountains. The backyard features a built-in BBQ, multiple seating areas, and plenty of space for outdoor entertaining. This home also offers a three-car garage and solar panels. Oak Park is known for its beautiful parks, top-rated schools, and close-knit community. Residents can enjoy miles of hiking and biking trails, as well as nearby shopping and dining options. The neighborhood also offers easy access to major highways and is just a short drive from nearby beaches and the city. Don't miss out on the opportunity to live in this charming community!\", metadata={'LN': 'L056789', 'Price': 900000, 'Size': '2,500 sqft', 'Bedrooms': 4, 'Bathrooms': 3.0}),\n",
       "  0.27267828583717346),\n",
       " (Document(page_content=\"This beautiful home is nestled in the quiet and friendly city of Moorpark. The interior features an open floor plan with high ceilings and plenty of natural light. The kitchen boasts granite countertops, stainless steel appliances, and a breakfast bar. The spacious master suite includes a walk-in closet and a luxurious en-suite bathroom with a soaking tub and separate shower. The backyard is perfect for entertaining, with a covered patio, built-in BBQ, and fire pit. This home also has a three-car garage for your convenience. Located in the heart of Moorpark, this home offers easy access to a variety of shopping and dining options. The neighborhood is known for its top-rated schools and friendly community. Outdoor enthusiasts will love the nearby parks, hiking trails, and golf courses. With easy access to the 23 freeway, commuting to nearby cities is a breeze. Don't miss out on the opportunity to live in one of the most desirable areas of Moorpark.\", metadata={'LN': 'L038634', 'Price': 950000, 'Size': '2,200 sqft', 'Bedrooms': 4, 'Bathrooms': 3.0}),\n",
       "  0.29052677750587463),\n",
       " (Document(page_content=\"This stunning home is located in the desirable community of Moorpark. The spacious living room features high ceilings, a cozy fireplace, and large windows that provide plenty of natural light. The kitchen boasts granite countertops, stainless steel appliances, and a sunny breakfast nook. Upstairs, you'll find the luxurious master suite with a walk-in closet and an en-suite bathroom with a spa tub. The backyard is an entertainer's dream, with a built-in BBQ, a covered patio, and a sparkling pool. This home also includes a two-car garage and a laundry room. Located in a peaceful and family-friendly neighborhood, this home is just minutes away from the bustling Moorpark Town Center, where you can find shopping, dining, and entertainment options galore. The nearby parks and hiking trails offer the perfect escape for outdoor enthusiasts. This home is also in a top-rated school district and offers easy access to major freeways, making it a convenient location for commuters. Don't miss your chance to live in the desirable Moorpark community!\", metadata={'LN': 'L567890', 'Price': 950000, 'Size': '2,400 sqft', 'Bedrooms': 3, 'Bathrooms': 2.5}),\n",
       "  0.2922130227088928),\n",
       " (Document(page_content=\"Welcome to this beautifully updated home in the desirable community of Calabasas. The spacious living room features high ceilings, a cozy fireplace, and large windows that provide plenty of natural light. The kitchen boasts granite countertops, stainless steel appliances, and a breakfast nook with a bay window. Upstairs, you'll find the luxurious master suite with a walk-in closet and an en-suite bathroom with a soaking tub. The backyard is an entertainer's dream, with a built-in BBQ, a fire pit, and a sparkling pool. This home also includes a two-car garage and a separate laundry room. Located in a prestigious and exclusive gated community, this home offers the perfect blend of luxury and privacy. You'll have access to top-rated schools, beautiful parks, and upscale shopping and dining options, all just a short drive away. The nearby freeway allows for an easy commute to the city, and the stunning views of the surrounding mountains make coming home feel like a vacation. Don't miss your chance to live in this highly sought-after neighborhood in Calabasas!\", metadata={'LN': 'L345678', 'Price': 1000000, 'Size': '2,200 sqft', 'Bedrooms': 4, 'Bathrooms': 2.5}),\n",
       "  0.2947937250137329)]"
      ]
     },
     "execution_count": 65,
     "metadata": {},
     "output_type": "execute_result"
    }
   ],
   "source": [
    "docs"
   ]
  },
  {
   "cell_type": "code",
   "execution_count": 66,
   "id": "c9de40c1-7007-4364-9dc5-e34bf84c3b08",
   "metadata": {},
   "outputs": [],
   "source": [
    "#\n",
    "# set up LLM and RAG chain\n",
    "#\n",
    "\n",
    "llm = ChatOpenAI(model_name=\"gpt-3.5-turbo-0125\", temperature=0.5)\n",
    "\n",
    "\n",
    "rag_chain = (\n",
    "    {\"context\": retriever, \"question\": RunnablePassthrough()}\n",
    "    | prompt\n",
    "    | llm\n",
    "    | StrOutputParser()\n",
    ")\n",
    "\n"
   ]
  },
  {
   "cell_type": "code",
   "execution_count": 67,
   "id": "ee47cb47-9ab9-490b-af61-a258b848e7b0",
   "metadata": {},
   "outputs": [
    {
     "name": "stdout",
     "output_type": "stream",
     "text": [
      "Find me home listings with a gourmet kitchen, large family room with lots of windows, fenced backyard with a BBQ grill, near top-rated schools and recreational areas, lots of tree and away from city center, low crime rate.\n",
      "\n"
     ]
    }
   ],
   "source": [
    "question = f\"Find me home listings with {preferences.value}\"\n",
    "\n",
    "print(question)"
   ]
  },
  {
   "cell_type": "markdown",
   "id": "fd1084d0-5ada-45b1-8bdf-89bb4c9ca74b",
   "metadata": {},
   "source": [
    "### Top 3 listings that meet buyer's preferences "
   ]
  },
  {
   "cell_type": "code",
   "execution_count": 68,
   "id": "93893312-dc82-4b18-b74d-bfa4f1c0b6d3",
   "metadata": {},
   "outputs": [],
   "source": [
    "output = rag_chain.invoke(question)"
   ]
  },
  {
   "cell_type": "code",
   "execution_count": 69,
   "id": "d779591d-5382-40fe-872f-ebb2f851fec7",
   "metadata": {},
   "outputs": [
    {
     "name": "stdout",
     "output_type": "stream",
     "text": [
      "## Thank you for your interest, home(s) that best meet your preferences are: ##\n",
      "LN: L056789\n",
      "Price: 900000\n",
      "Size: 2,500 sqft\n",
      "Bedrooms: 4\n",
      "Bathrooms: 3.0\n",
      "This stunning home in Oak Park features a gourmet kitchen with granite countertops, high-end appliances, and a large island. The spacious living and dining area have large windows that provide lots of natural light. The backyard includes a built-in BBQ, multiple seating areas, and ample space for outdoor entertaining. Located near top-rated schools and recreational areas, this home offers a peaceful setting with plenty of trees away from the city center.\n",
      "\n",
      "LN: L038634\n",
      "Price: 950000\n",
      "Size: 2,200 sqft\n",
      "Bedrooms: 4\n",
      "Bathrooms: 3.0\n",
      "Nestled in Moorpark, this beautiful home boasts a gourmet kitchen with granite countertops and stainless steel appliances. The large family room has high ceilings and plenty of natural light. The fenced backyard features a BBQ grill and a fire pit, perfect for outdoor gatherings. Situated near top-rated schools and recreational areas, this home offers a low crime rate and a serene environment.\n",
      "\n",
      "LN: L345678\n",
      "Price: 1000000\n",
      "Size: 2,200 sqft\n",
      "Bedrooms: 4\n",
      "Bathrooms: 2.5\n",
      "Located in Calabasas, this beautifully updated home offers a gourmet kitchen with granite countertops and stainless steel appliances. The spacious living room has large windows that bring in natural light. The fenced backyard includes a BBQ grill and a fire pit for outdoor entertainment. Situated near top-rated schools and recreational areas, this home provides a tranquil setting with a low crime rate.\n"
     ]
    }
   ],
   "source": [
    "print(output)"
   ]
  },
  {
   "cell_type": "code",
   "execution_count": null,
   "id": "307327d4-6c7a-4860-a0ed-ff8fa7b24476",
   "metadata": {},
   "outputs": [],
   "source": []
  },
  {
   "cell_type": "code",
   "execution_count": null,
   "id": "2c8a804c-2aee-40c0-9e46-fc213983fcb6",
   "metadata": {},
   "outputs": [],
   "source": []
  },
  {
   "cell_type": "code",
   "execution_count": null,
   "id": "e68350ec-8afc-4373-8409-478db6b89926",
   "metadata": {},
   "outputs": [],
   "source": []
  },
  {
   "cell_type": "code",
   "execution_count": null,
   "id": "2766a6df-2c56-4f25-bec5-0841b8db4c57",
   "metadata": {},
   "outputs": [],
   "source": []
  }
 ],
 "metadata": {
  "kernelspec": {
   "display_name": "OpenAI",
   "language": "python",
   "name": "openai"
  },
  "language_info": {
   "codemirror_mode": {
    "name": "ipython",
    "version": 3
   },
   "file_extension": ".py",
   "mimetype": "text/x-python",
   "name": "python",
   "nbconvert_exporter": "python",
   "pygments_lexer": "ipython3",
   "version": "3.10.13"
  }
 },
 "nbformat": 4,
 "nbformat_minor": 5
}
