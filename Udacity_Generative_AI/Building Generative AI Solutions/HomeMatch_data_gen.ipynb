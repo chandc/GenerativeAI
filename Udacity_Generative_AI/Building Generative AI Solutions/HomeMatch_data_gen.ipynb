{
 "cells": [
  {
   "cell_type": "markdown",
   "id": "a108af04",
   "metadata": {},
   "source": [
    "## This notebook generates 10 records to mimic a real estate listing using an one-shot approach"
   ]
  },
  {
   "cell_type": "code",
   "execution_count": 1,
   "id": "4c8f4ca0-b383-473a-95bc-b5b7fa216558",
   "metadata": {},
   "outputs": [],
   "source": [
    "import json\n",
    "import pandas as pd\n",
    "\n",
    "from langchain_openai import ChatOpenAI, OpenAI\n",
    "from langchain_openai import OpenAIEmbeddings"
   ]
  },
  {
   "cell_type": "code",
   "execution_count": 2,
   "id": "112cb4df-6989-4806-8d3a-1a32179acb05",
   "metadata": {},
   "outputs": [],
   "source": [
    "import os\n",
    "from dotenv import load_dotenv, find_dotenv\n",
    "\n",
    "_ = load_dotenv(find_dotenv()) # read local .env file\n"
   ]
  },
  {
   "cell_type": "code",
   "execution_count": 3,
   "id": "578f71e0-bf10-429d-88e8-1756e35c51a5",
   "metadata": {},
   "outputs": [],
   "source": [
    "model_name = \"gpt-3.5-turbo-instruct\"\n",
    "\n",
    "temperature = 0.7\n",
    "\n",
    "llm = OpenAI(model_name=model_name, temperature=temperature, max_tokens = 3000)\n"
   ]
  },
  {
   "cell_type": "code",
   "execution_count": 4,
   "id": "824248ba-bf63-4a1e-bd6c-fc9da71f90f5",
   "metadata": {},
   "outputs": [],
   "source": [
    "prompt = \"\"\"\n",
    "you are a real state agent with 15 years of experience and are helping a data scientist to \n",
    "generate 10 training records that mimic a real estate listing in a small handful of suburban neighborhoods \n",
    "with a price ranges from $700000 to $1000000, average size of 3 bedrooms , 2 bathrooms and 2,000 square feet. \n",
    "Each record can deviate from these averages by as much as 50%. \n",
    "The Listing Number starts with an \"L\" and follows by a 6-digit unique number. \n",
    "Be creative and provide fun facts while writing \"Description\" and \"Neighborhood Description\". \n",
    "** Do not use the same content more than onece **.\n",
    "The output should only contain a list of JSON objects, nothing else. \n",
    "Each record needs to be in the JSAON format with key attributes following the example provided below.\n",
    "\n",
    "\n",
    "### example ###\n",
    "Listing Number: L123456\n",
    "Neighborhood: Green Oaks\n",
    "Price: $800,000\n",
    "Bedrooms: 3\n",
    "Bathrooms: 2\n",
    "House Size: 2,000 sqft\n",
    "\n",
    "House Description: Welcome to this eco-friendly oasis nestled in the heart of Green Oaks. This charming 3-bedroom, 2-bathroom home boasts energy-efficient features such as solar panels and a well-insulated structure. Natural light floods the living spaces, highlighting the beautiful hardwood floors and eco-conscious finishes. The open-concept kitchen and dining area lead to a spacious backyard with a vegetable garden, perfect for the eco-conscious family. Embrace sustainable living without compromising on style in this Green Oaks gem.\n",
    "\n",
    "Neighborhood Description: Green Oaks is a close-knit, environmentally-conscious community with access to organic grocery stores, community gardens, and bike paths. Take a stroll through the nearby Green Oaks Park or grab a cup of coffee at the cozy Green Bean Cafe. With easy access to public transportation and bike lanes, commuting is a breeze.\n",
    "\"\"\""
   ]
  },
  {
   "cell_type": "code",
   "execution_count": 5,
   "id": "e9def5ec-7c5d-4556-81b8-5f2f6cf41bc9",
   "metadata": {},
   "outputs": [],
   "source": [
    "output = llm.invoke(prompt)"
   ]
  },
  {
   "cell_type": "code",
   "execution_count": 6,
   "id": "22d71a67-64e8-4525-bfcc-d410c6bf7810",
   "metadata": {},
   "outputs": [
    {
     "data": {
      "text/plain": [
       "str"
      ]
     },
     "execution_count": 6,
     "metadata": {},
     "output_type": "execute_result"
    }
   ],
   "source": [
    "type(output)"
   ]
  },
  {
   "cell_type": "code",
   "execution_count": 7,
   "id": "b20fb9f0-1e6b-4022-bd6e-2388d651fbc9",
   "metadata": {},
   "outputs": [
    {
     "name": "stdout",
     "output_type": "stream",
     "text": [
      "\n",
      "[\n",
      "  {\n",
      "    \"Listing Number\": \"L123456\",\n",
      "    \"Neighborhood\": \"Green Oaks\",\n",
      "    \"Price\": \"$800,000\",\n",
      "    \"Bedrooms\": 3,\n",
      "    \"Bathrooms\": 2,\n",
      "    \"House Size\": \"2,000 sqft\",\n",
      "    \"House Description\": \"Welcome to this eco-friendly oasis nestled in the heart of Green Oaks. This charming 3-bedroom, 2-bathroom home boasts energy-efficient features such as solar panels and a well-insulated structure. Natural light floods the living spaces, highlighting the beautiful hardwood floors and eco-conscious finishes. The open-concept kitchen and dining area lead to a spacious backyard with a vegetable garden, perfect for the eco-conscious family. Embrace sustainable living without compromising on style in this Green Oaks gem.\",\n",
      "    \"Neighborhood Description\": \"Green Oaks is a close-knit, environmentally-conscious community with access to organic grocery stores, community gardens, and bike paths. Take a stroll through the nearby Green Oaks Park or grab a cup of coffee at the cozy Green Bean Cafe. With easy access to public transportation and bike lanes, commuting is a breeze.\"\n",
      "  },\n",
      "  {\n",
      "    \"Listing Number\": \"L234567\",\n",
      "    \"Neighborhood\": \"Maple Hills\",\n",
      "    \"Price\": \"$750,000\",\n",
      "    \"Bedrooms\": 3,\n",
      "    \"Bathrooms\": 2,\n",
      "    \"House Size\": \"2,500 sqft\",\n",
      "    \"House Description\": \"Welcome to this beautiful 3-bedroom, 2-bathroom home in the desirable Maple Hills neighborhood. This spacious home features high ceilings, large windows, and an open floor plan, making it perfect for entertaining. The kitchen boasts granite countertops and stainless steel appliances, and the master suite includes a walk-in closet and en-suite bathroom. Enjoy the peaceful backyard with mature trees and a patio area, perfect for summer barbecues.\",\n",
      "    \"Neighborhood Description\": \"Maple Hills is a friendly, family-oriented neighborhood with a strong sense of community. Residents enjoy access to top-rated schools, parks, and community events. With easy access to highways and a short commute to downtown, Maple Hills offers the perfect balance of suburban living and city convenience.\"\n",
      "  },\n",
      "  {\n",
      "    \"Listing Number\": \"L345678\",\n",
      "    \"Neighborhood\": \"Willow Creek\",\n",
      "    \"Price\": \"$850,000\",\n",
      "    \"Bedrooms\": 4,\n",
      "    \"Bathrooms\": 3,\n",
      "    \"House Size\": \"1,800 sqft\",\n",
      "    \"House Description\": \"Welcome to this charming 4-bedroom, 3-bathroom home in the peaceful Willow Creek neighborhood. This two-story home features a bright and airy living room with a cozy fireplace, perfect for chilly evenings. The kitchen boasts granite countertops and a breakfast bar, and the master suite includes a walk-in closet and en-suite bathroom. The backyard is a private oasis with a covered patio and lush landscaping.\",\n",
      "    \"Neighborhood Description\": \"Willow Creek is a quiet, tree-lined neighborhood with a mix of families and young professionals. The community is known for its excellent schools and well-maintained parks, including the popular Willow Creek Park with its playground and sports fields. Residents also enjoy easy access to nearby shopping and dining options.\"\n",
      "  },\n",
      "  {\n",
      "    \"Listing Number\": \"L456789\",\n",
      "    \"Neighborhood\": \"Oakwood Heights\",\n",
      "    \"Price\": \"$950,000\",\n",
      "    \"Bedrooms\": 3,\n",
      "    \"Bathrooms\": 2,\n",
      "    \"House Size\": \"2,500 sqft\",\n",
      "    \"House Description\": \"Welcome to this stunning 3-bedroom, 2-bathroom home in the highly sought-after Oakwood Heights neighborhood. This single-story home features a spacious living room with vaulted ceilings and a gas fireplace, making it the perfect place to relax and unwind. The kitchen boasts high-end appliances and a large island, and the master suite includes a spa-like en-suite bathroom. The backyard is a tranquil retreat with a pool, spa, and covered patio.\",\n",
      "    \"Neighborhood Description\": \"Oakwood Heights is a prestigious neighborhood known for its large, luxurious homes and well-maintained streets. Residents enjoy access to top-rated schools, parks, and country clubs. With its prime location near shopping, dining, and entertainment options, Oakwood Heights offers the perfect blend of privacy and convenience.\"\n",
      "  },\n",
      "  {\n",
      "    \"Listing Number\": \"L567890\",\n",
      "    \"Neighborhood\": \"Chestnut Grove\",\n",
      "    \"Price\": \"$900,000\",\n",
      "    \"Bedrooms\": 3,\n",
      "    \"Bathrooms\": 2,\n",
      "    \"House Size\": \"2,200 sqft\",\n",
      "    \"House Description\": \"Welcome to this charming 3-bedroom, 2-bathroom home in the idyllic Chestnut Grove neighborhood. This single-story home features a spacious living room with vaulted ceilings and a cozy fireplace, perfect for family gatherings. The kitchen boasts granite countertops and a breakfast bar, and the master suite includes a walk-in closet and en-suite bathroom. The backyard is a private oasis with a covered patio and mature trees.\",\n",
      "    \"Neighborhood Description\": \"Chestnut Grove is a peaceful, family-friendly neighborhood with a strong sense of community. Residents enjoy access to top-rated schools, parks, and community events. With its convenient location and friendly atmosphere, Chestnut Grove is the perfect place to call home.\"\n",
      "  },\n",
      "  {\n",
      "    \"Listing Number\": \"L678901\",\n",
      "    \"Neighborhood\": \"Pine Valley\",\n",
      "    \"Price\": \"$700,000\",\n",
      "    \"Bedrooms\": 4,\n",
      "    \"Bathrooms\": 3,\n",
      "    \"House Size\": \"1,800 sqft\",\n",
      "    \"House Description\": \"Welcome to this spacious 4-bedroom, 3-bathroom home in the desirable Pine Valley neighborhood. This two-story home features a bright and airy living room with high ceilings and large windows, making it perfect for entertaining. The kitchen boasts granite countertops and stainless steel appliances, and the master suite includes a walk-in closet and en-suite bathroom. The backyard is a private oasis with a patio and plenty of room for outdoor activities.\",\n",
      "    \"Neighborhood Description\": \"Pine Valley is a quiet, family-oriented neighborhood with a mix of young families and retirees. Residents enjoy access to top-rated schools, parks, and community events. With its convenient location and peaceful atmosphere, Pine Valley is the perfect place to call home.\"\n",
      "  },\n",
      "  {\n",
      "    \"Listing Number\": \"L789012\",\n",
      "    \"Neighborhood\": \"Cedar Heights\",\n",
      "    \"Price\": \"$950,000\",\n",
      "    \"Bedrooms\": 3,\n",
      "    \"Bathrooms\": 2,\n",
      "    \"House Size\": \"2,500 sqft\",\n",
      "    \"House Description\": \"Welcome to this stunning 3-bedroom, 2-bathroom home in the exclusive Cedar Heights neighborhood. This single-story home features a spacious living room with vaulted ceilings and a gas fireplace, making it the perfect place to relax and unwind. The kitchen boasts high-end appliances and a large island, and the master suite includes a spa-like en-suite bathroom. The backyard is a tranquil retreat with a pool, spa, and covered patio.\",\n",
      "    \"Neighborhood Description\": \"Cedar Heights is a prestigious, gated community known for its luxurious homes and breathtaking views. Residents enjoy access to top-rated schools, parks, and country clubs. With its prime location near shopping, dining, and entertainment options, Cedar Heights offers the perfect blend of luxury and convenience.\"\n",
      "  },\n",
      "  {\n",
      "    \"Listing Number\": \"L890123\",\n",
      "    \"Neighborhood\": \"Aspen Grove\",\n",
      "    \"Price\": \"$800,000\",\n",
      "    \"Bedrooms\": 3,\n",
      "    \"Bathrooms\": 2,\n",
      "    \"House Size\": \"1,800 sqft\",\n",
      "    \"House Description\": \"Welcome to this charming 3-bedroom, 2-bathroom home in the picturesque Aspen Grove neighborhood. This two-story home features a cozy living room with a gas fireplace and a bright and airy dining room. The kitchen boasts granite countertops and a breakfast bar, and the master suite includes a walk-in closet and en-suite bathroom. The backyard is a private oasis with a patio and lush landscaping.\",\n",
      "    \"Neighborhood Description\": \"Aspen Grove is a peaceful, tree-lined neighborhood with a mix of families and young professionals. Residents enjoy access to top-rated schools, parks, and community events. With its convenient location and friendly atmosphere, Aspen Grove is the perfect place to call home.\"\n",
      "  },\n",
      "  {\n",
      "    \"Listing Number\": \"L901234\",\n",
      "    \"Neighborhood\": \"Evergreen Estates\",\n",
      "    \"Price\": \"$900,000\",\n",
      "    \"Bedrooms\": 4,\n",
      "    \"Bathrooms\": 3,\n",
      "    \"House Size\": \"2,500 sqft\",\n",
      "    \"House Description\": \"Welcome to this stunning 4-bedroom, 3-bathroom home in the highly desirable Evergreen Estates neighborhood. This single-story home features a spacious living room with high ceilings and large windows, making it perfect for entertaining. The kitchen boasts high-end appliances and a large island, and the master suite includes a spa-like en-suite bathroom. The backyard is a tranquil retreat with a pool, spa, and covered patio.\",\n",
      "    \"Neighborhood Description\": \"Evergreen Estates is a prestigious neighborhood known for its large, luxurious homes and well-maintained streets. Residents enjoy access to top-rated schools, parks, and country clubs. With its prime location near shopping, dining, and entertainment options, Evergreen Estates offers the perfect blend of luxury and convenience.\"\n",
      "  },\n",
      "  {\n",
      "    \"Listing Number\": \"L012345\",\n",
      "    \"Neighborhood\": \"Hickory Hills\",\n",
      "    \"Price\": \"$750,000\",\n",
      "    \"Bedrooms\": 3,\n",
      "    \"Bathrooms\": 2,\n",
      "    \"House Size\": \"2,200 sqft\",\n",
      "    \"House Description\": \"Welcome to this beautiful 3-bedroom, 2-bathroom home in the peaceful Hickory Hills neighborhood. This two-story home features a bright and airy living room with vaulted ceilings and a cozy fireplace, perfect for family gatherings. The kitchen boasts granite countertops and a breakfast bar, and the master suite includes a walk-in closet and en-suite bathroom. The backyard is a private oasis with a covered patio and mature trees.\",\n",
      "    \"Neighborhood Description\": \"Hickory Hills is a quiet, family-friendly neighborhood with a strong sense of community. Residents enjoy access to top-rated schools, parks, and community events. With its convenient location and peaceful atmosphere, Hickory Hills is the perfect place to call home.\"\n",
      "  }\n",
      "]\n"
     ]
    }
   ],
   "source": [
    "print(output)"
   ]
  },
  {
   "cell_type": "code",
   "execution_count": 8,
   "id": "26587379-152e-4f08-9903-6c56d1264f1f",
   "metadata": {},
   "outputs": [],
   "source": [
    "data = json.loads(output)"
   ]
  },
  {
   "cell_type": "code",
   "execution_count": 9,
   "id": "003a692e-486a-4cc2-ac03-4f27f4102007",
   "metadata": {},
   "outputs": [
    {
     "data": {
      "text/plain": [
       "list"
      ]
     },
     "execution_count": 9,
     "metadata": {},
     "output_type": "execute_result"
    }
   ],
   "source": [
    "type(data)"
   ]
  },
  {
   "cell_type": "code",
   "execution_count": 10,
   "id": "6dc4f6ea-498d-434d-9aa8-6bda6eaa57ba",
   "metadata": {},
   "outputs": [
    {
     "data": {
      "text/html": [
       "<div>\n",
       "<style scoped>\n",
       "    .dataframe tbody tr th:only-of-type {\n",
       "        vertical-align: middle;\n",
       "    }\n",
       "\n",
       "    .dataframe tbody tr th {\n",
       "        vertical-align: top;\n",
       "    }\n",
       "\n",
       "    .dataframe thead th {\n",
       "        text-align: right;\n",
       "    }\n",
       "</style>\n",
       "<table border=\"1\" class=\"dataframe\">\n",
       "  <thead>\n",
       "    <tr style=\"text-align: right;\">\n",
       "      <th></th>\n",
       "      <th>Listing Number</th>\n",
       "      <th>Neighborhood</th>\n",
       "      <th>Price</th>\n",
       "      <th>Bedrooms</th>\n",
       "      <th>Bathrooms</th>\n",
       "      <th>House Size</th>\n",
       "      <th>House Description</th>\n",
       "      <th>Neighborhood Description</th>\n",
       "    </tr>\n",
       "  </thead>\n",
       "  <tbody>\n",
       "    <tr>\n",
       "      <th>0</th>\n",
       "      <td>L123456</td>\n",
       "      <td>Green Oaks</td>\n",
       "      <td>$800,000</td>\n",
       "      <td>3</td>\n",
       "      <td>2</td>\n",
       "      <td>2,000 sqft</td>\n",
       "      <td>Welcome to this eco-friendly oasis nestled in ...</td>\n",
       "      <td>Green Oaks is a close-knit, environmentally-co...</td>\n",
       "    </tr>\n",
       "    <tr>\n",
       "      <th>1</th>\n",
       "      <td>L234567</td>\n",
       "      <td>Maple Hills</td>\n",
       "      <td>$750,000</td>\n",
       "      <td>3</td>\n",
       "      <td>2</td>\n",
       "      <td>2,500 sqft</td>\n",
       "      <td>Welcome to this beautiful 3-bedroom, 2-bathroo...</td>\n",
       "      <td>Maple Hills is a friendly, family-oriented nei...</td>\n",
       "    </tr>\n",
       "    <tr>\n",
       "      <th>2</th>\n",
       "      <td>L345678</td>\n",
       "      <td>Willow Creek</td>\n",
       "      <td>$850,000</td>\n",
       "      <td>4</td>\n",
       "      <td>3</td>\n",
       "      <td>1,800 sqft</td>\n",
       "      <td>Welcome to this charming 4-bedroom, 3-bathroom...</td>\n",
       "      <td>Willow Creek is a quiet, tree-lined neighborho...</td>\n",
       "    </tr>\n",
       "    <tr>\n",
       "      <th>3</th>\n",
       "      <td>L456789</td>\n",
       "      <td>Oakwood Heights</td>\n",
       "      <td>$950,000</td>\n",
       "      <td>3</td>\n",
       "      <td>2</td>\n",
       "      <td>2,500 sqft</td>\n",
       "      <td>Welcome to this stunning 3-bedroom, 2-bathroom...</td>\n",
       "      <td>Oakwood Heights is a prestigious neighborhood ...</td>\n",
       "    </tr>\n",
       "    <tr>\n",
       "      <th>4</th>\n",
       "      <td>L567890</td>\n",
       "      <td>Chestnut Grove</td>\n",
       "      <td>$900,000</td>\n",
       "      <td>3</td>\n",
       "      <td>2</td>\n",
       "      <td>2,200 sqft</td>\n",
       "      <td>Welcome to this charming 3-bedroom, 2-bathroom...</td>\n",
       "      <td>Chestnut Grove is a peaceful, family-friendly ...</td>\n",
       "    </tr>\n",
       "    <tr>\n",
       "      <th>5</th>\n",
       "      <td>L678901</td>\n",
       "      <td>Pine Valley</td>\n",
       "      <td>$700,000</td>\n",
       "      <td>4</td>\n",
       "      <td>3</td>\n",
       "      <td>1,800 sqft</td>\n",
       "      <td>Welcome to this spacious 4-bedroom, 3-bathroom...</td>\n",
       "      <td>Pine Valley is a quiet, family-oriented neighb...</td>\n",
       "    </tr>\n",
       "    <tr>\n",
       "      <th>6</th>\n",
       "      <td>L789012</td>\n",
       "      <td>Cedar Heights</td>\n",
       "      <td>$950,000</td>\n",
       "      <td>3</td>\n",
       "      <td>2</td>\n",
       "      <td>2,500 sqft</td>\n",
       "      <td>Welcome to this stunning 3-bedroom, 2-bathroom...</td>\n",
       "      <td>Cedar Heights is a prestigious, gated communit...</td>\n",
       "    </tr>\n",
       "    <tr>\n",
       "      <th>7</th>\n",
       "      <td>L890123</td>\n",
       "      <td>Aspen Grove</td>\n",
       "      <td>$800,000</td>\n",
       "      <td>3</td>\n",
       "      <td>2</td>\n",
       "      <td>1,800 sqft</td>\n",
       "      <td>Welcome to this charming 3-bedroom, 2-bathroom...</td>\n",
       "      <td>Aspen Grove is a peaceful, tree-lined neighbor...</td>\n",
       "    </tr>\n",
       "    <tr>\n",
       "      <th>8</th>\n",
       "      <td>L901234</td>\n",
       "      <td>Evergreen Estates</td>\n",
       "      <td>$900,000</td>\n",
       "      <td>4</td>\n",
       "      <td>3</td>\n",
       "      <td>2,500 sqft</td>\n",
       "      <td>Welcome to this stunning 4-bedroom, 3-bathroom...</td>\n",
       "      <td>Evergreen Estates is a prestigious neighborhoo...</td>\n",
       "    </tr>\n",
       "    <tr>\n",
       "      <th>9</th>\n",
       "      <td>L012345</td>\n",
       "      <td>Hickory Hills</td>\n",
       "      <td>$750,000</td>\n",
       "      <td>3</td>\n",
       "      <td>2</td>\n",
       "      <td>2,200 sqft</td>\n",
       "      <td>Welcome to this beautiful 3-bedroom, 2-bathroo...</td>\n",
       "      <td>Hickory Hills is a quiet, family-friendly neig...</td>\n",
       "    </tr>\n",
       "  </tbody>\n",
       "</table>\n",
       "</div>"
      ],
      "text/plain": [
       "  Listing Number       Neighborhood     Price  Bedrooms  Bathrooms  \\\n",
       "0        L123456         Green Oaks  $800,000         3          2   \n",
       "1        L234567        Maple Hills  $750,000         3          2   \n",
       "2        L345678       Willow Creek  $850,000         4          3   \n",
       "3        L456789    Oakwood Heights  $950,000         3          2   \n",
       "4        L567890     Chestnut Grove  $900,000         3          2   \n",
       "5        L678901        Pine Valley  $700,000         4          3   \n",
       "6        L789012      Cedar Heights  $950,000         3          2   \n",
       "7        L890123        Aspen Grove  $800,000         3          2   \n",
       "8        L901234  Evergreen Estates  $900,000         4          3   \n",
       "9        L012345      Hickory Hills  $750,000         3          2   \n",
       "\n",
       "   House Size                                  House Description  \\\n",
       "0  2,000 sqft  Welcome to this eco-friendly oasis nestled in ...   \n",
       "1  2,500 sqft  Welcome to this beautiful 3-bedroom, 2-bathroo...   \n",
       "2  1,800 sqft  Welcome to this charming 4-bedroom, 3-bathroom...   \n",
       "3  2,500 sqft  Welcome to this stunning 3-bedroom, 2-bathroom...   \n",
       "4  2,200 sqft  Welcome to this charming 3-bedroom, 2-bathroom...   \n",
       "5  1,800 sqft  Welcome to this spacious 4-bedroom, 3-bathroom...   \n",
       "6  2,500 sqft  Welcome to this stunning 3-bedroom, 2-bathroom...   \n",
       "7  1,800 sqft  Welcome to this charming 3-bedroom, 2-bathroom...   \n",
       "8  2,500 sqft  Welcome to this stunning 4-bedroom, 3-bathroom...   \n",
       "9  2,200 sqft  Welcome to this beautiful 3-bedroom, 2-bathroo...   \n",
       "\n",
       "                            Neighborhood Description  \n",
       "0  Green Oaks is a close-knit, environmentally-co...  \n",
       "1  Maple Hills is a friendly, family-oriented nei...  \n",
       "2  Willow Creek is a quiet, tree-lined neighborho...  \n",
       "3  Oakwood Heights is a prestigious neighborhood ...  \n",
       "4  Chestnut Grove is a peaceful, family-friendly ...  \n",
       "5  Pine Valley is a quiet, family-oriented neighb...  \n",
       "6  Cedar Heights is a prestigious, gated communit...  \n",
       "7  Aspen Grove is a peaceful, tree-lined neighbor...  \n",
       "8  Evergreen Estates is a prestigious neighborhoo...  \n",
       "9  Hickory Hills is a quiet, family-friendly neig...  "
      ]
     },
     "execution_count": 10,
     "metadata": {},
     "output_type": "execute_result"
    }
   ],
   "source": [
    "df = pd.DataFrame(data)\n",
    "df.head(10)"
   ]
  },
  {
   "cell_type": "code",
   "execution_count": 11,
   "id": "fbd85e3b-979f-4c6e-aeb4-30a6874ca30c",
   "metadata": {},
   "outputs": [
    {
     "data": {
      "text/plain": [
       "Listing Number              object\n",
       "Neighborhood                object\n",
       "Price                       object\n",
       "Bedrooms                     int64\n",
       "Bathrooms                    int64\n",
       "House Size                  object\n",
       "House Description           object\n",
       "Neighborhood Description    object\n",
       "dtype: object"
      ]
     },
     "execution_count": 11,
     "metadata": {},
     "output_type": "execute_result"
    }
   ],
   "source": [
    "df.dtypes"
   ]
  },
  {
   "cell_type": "code",
   "execution_count": 12,
   "id": "330297e0-36b6-47a8-9ed8-e9beb35f9a6c",
   "metadata": {},
   "outputs": [],
   "source": [
    "df.to_csv('listing_5.csv', index=False)"
   ]
  },
  {
   "cell_type": "code",
   "execution_count": null,
   "id": "fc3e6848-ad74-4257-842b-415617b6be81",
   "metadata": {},
   "outputs": [],
   "source": []
  }
 ],
 "metadata": {
  "kernelspec": {
   "display_name": "OpenAI",
   "language": "python",
   "name": "openai"
  },
  "language_info": {
   "codemirror_mode": {
    "name": "ipython",
    "version": 3
   },
   "file_extension": ".py",
   "mimetype": "text/x-python",
   "name": "python",
   "nbconvert_exporter": "python",
   "pygments_lexer": "ipython3",
   "version": "3.10.13"
  }
 },
 "nbformat": 4,
 "nbformat_minor": 5
}
