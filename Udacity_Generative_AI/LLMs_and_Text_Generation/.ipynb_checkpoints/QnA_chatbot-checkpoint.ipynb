{
 "cells": [
  {
   "cell_type": "markdown",
   "id": "124e5672",
   "metadata": {},
   "source": [
    "# Custom Chatbot Project"
   ]
  },
  {
   "cell_type": "markdown",
   "id": "2a4a94b3",
   "metadata": {},
   "source": [
    "TODO: In this cell, write an explanation of which dataset you have chosen and why it is appropriate for this task"
   ]
  },
  {
   "cell_type": "markdown",
   "id": "96165e0b-4a34-4786-8302-199d71303ec1",
   "metadata": {},
   "source": [
    "I have chosen the `2023 Fashion Trends` dataset for this project. I believe they will hightlight the difference between retrieving information from a LLM with and without speicfic context."
   ]
  },
  {
   "cell_type": "markdown",
   "id": "a63d4c5f",
   "metadata": {},
   "source": [
    "## Data Wrangling\n",
    "\n",
    "TODO: In the cells below, load your chosen dataset into a `pandas` dataframe with a column named `\"text\"`. This column should contain all of your text data, separated into at least 20 rows."
   ]
  },
  {
   "cell_type": "code",
   "execution_count": 17,
   "id": "c69b83a1",
   "metadata": {},
   "outputs": [],
   "source": [
    "import pandas as pd\n",
    "import numpy as np\n",
    "from openai import OpenAI  # version 1.6.1\n",
    "from scipy import spatial  # for calculating vector similarities\n",
    "import tiktoken  # for counting tokens\n"
   ]
  },
  {
   "cell_type": "code",
   "execution_count": 18,
   "id": "d6c82076-5c43-4a7f-8079-2662e0299fa5",
   "metadata": {},
   "outputs": [],
   "source": [
    "from dotenv import load_dotenv, find_dotenv\n",
    "_ = load_dotenv(find_dotenv()) # read local .env file\n"
   ]
  },
  {
   "cell_type": "code",
   "execution_count": 19,
   "id": "0a595980",
   "metadata": {},
   "outputs": [],
   "source": [
    "data_path=\"./data/2023_fashion_trends.csv\""
   ]
  },
  {
   "cell_type": "code",
   "execution_count": 20,
   "id": "acb3a9fd",
   "metadata": {},
   "outputs": [],
   "source": [
    "df = pd.read_csv(data_path)"
   ]
  },
  {
   "cell_type": "code",
   "execution_count": 21,
   "id": "ea3d9ea1-938a-49c2-bfde-56269981e2a1",
   "metadata": {},
   "outputs": [],
   "source": [
    "df = df.rename(columns={\"Trends\":\"text\"})"
   ]
  },
  {
   "cell_type": "code",
   "execution_count": 22,
   "id": "f3c88dc5-3139-4793-b665-9b596e5a138f",
   "metadata": {},
   "outputs": [
    {
     "data": {
      "text/html": [
       "<div>\n",
       "<style scoped>\n",
       "    .dataframe tbody tr th:only-of-type {\n",
       "        vertical-align: middle;\n",
       "    }\n",
       "\n",
       "    .dataframe tbody tr th {\n",
       "        vertical-align: top;\n",
       "    }\n",
       "\n",
       "    .dataframe thead th {\n",
       "        text-align: right;\n",
       "    }\n",
       "</style>\n",
       "<table border=\"1\" class=\"dataframe\">\n",
       "  <thead>\n",
       "    <tr style=\"text-align: right;\">\n",
       "      <th></th>\n",
       "      <th>URL</th>\n",
       "      <th>text</th>\n",
       "      <th>Source</th>\n",
       "    </tr>\n",
       "  </thead>\n",
       "  <tbody>\n",
       "    <tr>\n",
       "      <th>0</th>\n",
       "      <td>https://www.refinery29.com/en-us/fashion-trend...</td>\n",
       "      <td>2023 Fashion Trend: Red. Glossy red hues took ...</td>\n",
       "      <td>7 Fashion Trends That Will Take Over 2023 — Sh...</td>\n",
       "    </tr>\n",
       "    <tr>\n",
       "      <th>1</th>\n",
       "      <td>https://www.refinery29.com/en-us/fashion-trend...</td>\n",
       "      <td>2023 Fashion Trend: Cargo Pants. Utilitarian w...</td>\n",
       "      <td>7 Fashion Trends That Will Take Over 2023 — Sh...</td>\n",
       "    </tr>\n",
       "    <tr>\n",
       "      <th>2</th>\n",
       "      <td>https://www.refinery29.com/en-us/fashion-trend...</td>\n",
       "      <td>2023 Fashion Trend: Sheer Clothing. \"Bare it a...</td>\n",
       "      <td>7 Fashion Trends That Will Take Over 2023 — Sh...</td>\n",
       "    </tr>\n",
       "    <tr>\n",
       "      <th>3</th>\n",
       "      <td>https://www.refinery29.com/en-us/fashion-trend...</td>\n",
       "      <td>2023 Fashion Trend: Denim Reimagined. From dou...</td>\n",
       "      <td>7 Fashion Trends That Will Take Over 2023 — Sh...</td>\n",
       "    </tr>\n",
       "    <tr>\n",
       "      <th>4</th>\n",
       "      <td>https://www.refinery29.com/en-us/fashion-trend...</td>\n",
       "      <td>2023 Fashion Trend: Shine For The Daytime. The...</td>\n",
       "      <td>7 Fashion Trends That Will Take Over 2023 — Sh...</td>\n",
       "    </tr>\n",
       "  </tbody>\n",
       "</table>\n",
       "</div>"
      ],
      "text/plain": [
       "                                                 URL  \\\n",
       "0  https://www.refinery29.com/en-us/fashion-trend...   \n",
       "1  https://www.refinery29.com/en-us/fashion-trend...   \n",
       "2  https://www.refinery29.com/en-us/fashion-trend...   \n",
       "3  https://www.refinery29.com/en-us/fashion-trend...   \n",
       "4  https://www.refinery29.com/en-us/fashion-trend...   \n",
       "\n",
       "                                                text  \\\n",
       "0  2023 Fashion Trend: Red. Glossy red hues took ...   \n",
       "1  2023 Fashion Trend: Cargo Pants. Utilitarian w...   \n",
       "2  2023 Fashion Trend: Sheer Clothing. \"Bare it a...   \n",
       "3  2023 Fashion Trend: Denim Reimagined. From dou...   \n",
       "4  2023 Fashion Trend: Shine For The Daytime. The...   \n",
       "\n",
       "                                              Source  \n",
       "0  7 Fashion Trends That Will Take Over 2023 — Sh...  \n",
       "1  7 Fashion Trends That Will Take Over 2023 — Sh...  \n",
       "2  7 Fashion Trends That Will Take Over 2023 — Sh...  \n",
       "3  7 Fashion Trends That Will Take Over 2023 — Sh...  \n",
       "4  7 Fashion Trends That Will Take Over 2023 — Sh...  "
      ]
     },
     "execution_count": 22,
     "metadata": {},
     "output_type": "execute_result"
    }
   ],
   "source": [
    "df.head(5)"
   ]
  },
  {
   "cell_type": "markdown",
   "id": "16dc0304-7251-4e30-9b64-15fc94a9a64e",
   "metadata": {},
   "source": [
    "### change from `\"` to blank"
   ]
  },
  {
   "cell_type": "code",
   "execution_count": 23,
   "id": "5077a8bc-6267-427f-8d26-7ffd54720bb7",
   "metadata": {},
   "outputs": [],
   "source": [
    "df[\"text\"] = df[\"text\"].apply(lambda x:x.replace('\"',''))"
   ]
  },
  {
   "cell_type": "markdown",
   "id": "bda5e036-761f-47e5-b2ae-978935e0a4d7",
   "metadata": {},
   "source": [
    "### add `2023 Fashion Trend:` to those rows that do not have it."
   ]
  },
  {
   "cell_type": "code",
   "execution_count": 24,
   "id": "dc76139a-ccb4-4e30-8b0e-d885bbdc1495",
   "metadata": {},
   "outputs": [],
   "source": [
    "def process_row(text):\n",
    "    if text.startswith(\"2023 Fashion Trend:\"):\n",
    "        return text\n",
    "    else:\n",
    "        return \"2023 Fashion Trend: \"+ text    \n"
   ]
  },
  {
   "cell_type": "code",
   "execution_count": 25,
   "id": "9b7f347c-7bca-4bd5-b36c-e621fc7d247f",
   "metadata": {},
   "outputs": [],
   "source": [
    "df[\"text\"]=df[\"text\"].apply(process_row)"
   ]
  },
  {
   "cell_type": "code",
   "execution_count": 26,
   "id": "5cbd013d-40b9-414f-a13d-db6e49f49d77",
   "metadata": {},
   "outputs": [
    {
     "data": {
      "text/html": [
       "<div>\n",
       "<style scoped>\n",
       "    .dataframe tbody tr th:only-of-type {\n",
       "        vertical-align: middle;\n",
       "    }\n",
       "\n",
       "    .dataframe tbody tr th {\n",
       "        vertical-align: top;\n",
       "    }\n",
       "\n",
       "    .dataframe thead th {\n",
       "        text-align: right;\n",
       "    }\n",
       "</style>\n",
       "<table border=\"1\" class=\"dataframe\">\n",
       "  <thead>\n",
       "    <tr style=\"text-align: right;\">\n",
       "      <th></th>\n",
       "      <th>URL</th>\n",
       "      <th>text</th>\n",
       "      <th>Source</th>\n",
       "    </tr>\n",
       "  </thead>\n",
       "  <tbody>\n",
       "    <tr>\n",
       "      <th>0</th>\n",
       "      <td>https://www.refinery29.com/en-us/fashion-trend...</td>\n",
       "      <td>2023 Fashion Trend: Red. Glossy red hues took ...</td>\n",
       "      <td>7 Fashion Trends That Will Take Over 2023 — Sh...</td>\n",
       "    </tr>\n",
       "    <tr>\n",
       "      <th>1</th>\n",
       "      <td>https://www.refinery29.com/en-us/fashion-trend...</td>\n",
       "      <td>2023 Fashion Trend: Cargo Pants. Utilitarian w...</td>\n",
       "      <td>7 Fashion Trends That Will Take Over 2023 — Sh...</td>\n",
       "    </tr>\n",
       "    <tr>\n",
       "      <th>2</th>\n",
       "      <td>https://www.refinery29.com/en-us/fashion-trend...</td>\n",
       "      <td>2023 Fashion Trend: Sheer Clothing. Bare it al...</td>\n",
       "      <td>7 Fashion Trends That Will Take Over 2023 — Sh...</td>\n",
       "    </tr>\n",
       "    <tr>\n",
       "      <th>3</th>\n",
       "      <td>https://www.refinery29.com/en-us/fashion-trend...</td>\n",
       "      <td>2023 Fashion Trend: Denim Reimagined. From dou...</td>\n",
       "      <td>7 Fashion Trends That Will Take Over 2023 — Sh...</td>\n",
       "    </tr>\n",
       "    <tr>\n",
       "      <th>4</th>\n",
       "      <td>https://www.refinery29.com/en-us/fashion-trend...</td>\n",
       "      <td>2023 Fashion Trend: Shine For The Daytime. The...</td>\n",
       "      <td>7 Fashion Trends That Will Take Over 2023 — Sh...</td>\n",
       "    </tr>\n",
       "    <tr>\n",
       "      <th>...</th>\n",
       "      <td>...</td>\n",
       "      <td>...</td>\n",
       "      <td>...</td>\n",
       "    </tr>\n",
       "    <tr>\n",
       "      <th>77</th>\n",
       "      <td>https://www.whowhatwear.com/spring-summer-2023...</td>\n",
       "      <td>2023 Fashion Trend: If lime green isn't your v...</td>\n",
       "      <td>Spring/Summer 2023 Fashion Trends: 21 Expert-A...</td>\n",
       "    </tr>\n",
       "    <tr>\n",
       "      <th>78</th>\n",
       "      <td>https://www.whowhatwear.com/spring-summer-2023...</td>\n",
       "      <td>2023 Fashion Trend: As someone who can clearly...</td>\n",
       "      <td>Spring/Summer 2023 Fashion Trends: 21 Expert-A...</td>\n",
       "    </tr>\n",
       "    <tr>\n",
       "      <th>79</th>\n",
       "      <td>https://www.whowhatwear.com/spring-summer-2023...</td>\n",
       "      <td>2023 Fashion Trend: Combine this design shift ...</td>\n",
       "      <td>Spring/Summer 2023 Fashion Trends: 21 Expert-A...</td>\n",
       "    </tr>\n",
       "    <tr>\n",
       "      <th>80</th>\n",
       "      <td>https://www.whowhatwear.com/spring-summer-2023...</td>\n",
       "      <td>2023 Fashion Trend: Thought party season ended...</td>\n",
       "      <td>Spring/Summer 2023 Fashion Trends: 21 Expert-A...</td>\n",
       "    </tr>\n",
       "    <tr>\n",
       "      <th>81</th>\n",
       "      <td>https://www.whowhatwear.com/spring-summer-2023...</td>\n",
       "      <td>2023 Fashion Trend: This season, we saw the re...</td>\n",
       "      <td>Spring/Summer 2023 Fashion Trends: 21 Expert-A...</td>\n",
       "    </tr>\n",
       "  </tbody>\n",
       "</table>\n",
       "<p>82 rows × 3 columns</p>\n",
       "</div>"
      ],
      "text/plain": [
       "                                                  URL  \\\n",
       "0   https://www.refinery29.com/en-us/fashion-trend...   \n",
       "1   https://www.refinery29.com/en-us/fashion-trend...   \n",
       "2   https://www.refinery29.com/en-us/fashion-trend...   \n",
       "3   https://www.refinery29.com/en-us/fashion-trend...   \n",
       "4   https://www.refinery29.com/en-us/fashion-trend...   \n",
       "..                                                ...   \n",
       "77  https://www.whowhatwear.com/spring-summer-2023...   \n",
       "78  https://www.whowhatwear.com/spring-summer-2023...   \n",
       "79  https://www.whowhatwear.com/spring-summer-2023...   \n",
       "80  https://www.whowhatwear.com/spring-summer-2023...   \n",
       "81  https://www.whowhatwear.com/spring-summer-2023...   \n",
       "\n",
       "                                                 text  \\\n",
       "0   2023 Fashion Trend: Red. Glossy red hues took ...   \n",
       "1   2023 Fashion Trend: Cargo Pants. Utilitarian w...   \n",
       "2   2023 Fashion Trend: Sheer Clothing. Bare it al...   \n",
       "3   2023 Fashion Trend: Denim Reimagined. From dou...   \n",
       "4   2023 Fashion Trend: Shine For The Daytime. The...   \n",
       "..                                                ...   \n",
       "77  2023 Fashion Trend: If lime green isn't your v...   \n",
       "78  2023 Fashion Trend: As someone who can clearly...   \n",
       "79  2023 Fashion Trend: Combine this design shift ...   \n",
       "80  2023 Fashion Trend: Thought party season ended...   \n",
       "81  2023 Fashion Trend: This season, we saw the re...   \n",
       "\n",
       "                                               Source  \n",
       "0   7 Fashion Trends That Will Take Over 2023 — Sh...  \n",
       "1   7 Fashion Trends That Will Take Over 2023 — Sh...  \n",
       "2   7 Fashion Trends That Will Take Over 2023 — Sh...  \n",
       "3   7 Fashion Trends That Will Take Over 2023 — Sh...  \n",
       "4   7 Fashion Trends That Will Take Over 2023 — Sh...  \n",
       "..                                                ...  \n",
       "77  Spring/Summer 2023 Fashion Trends: 21 Expert-A...  \n",
       "78  Spring/Summer 2023 Fashion Trends: 21 Expert-A...  \n",
       "79  Spring/Summer 2023 Fashion Trends: 21 Expert-A...  \n",
       "80  Spring/Summer 2023 Fashion Trends: 21 Expert-A...  \n",
       "81  Spring/Summer 2023 Fashion Trends: 21 Expert-A...  \n",
       "\n",
       "[82 rows x 3 columns]"
      ]
     },
     "execution_count": 26,
     "metadata": {},
     "output_type": "execute_result"
    }
   ],
   "source": [
    "df"
   ]
  },
  {
   "cell_type": "markdown",
   "id": "ae769871",
   "metadata": {},
   "source": [
    "## Custom Query Completion\n",
    "\n",
    "TODO: In the cells below, compose a custom query using your chosen dataset and retrieve results from an OpenAI `Completion` model. You may copy and paste any useful code from the course materials."
   ]
  },
  {
   "cell_type": "markdown",
   "id": "ebe20eea-63f0-47e0-bab0-a69d62275e9f",
   "metadata": {},
   "source": [
    "### set up the model and embedding"
   ]
  },
  {
   "cell_type": "code",
   "execution_count": 27,
   "id": "69aa8684-1a49-4468-b450-441c17dde0a3",
   "metadata": {},
   "outputs": [],
   "source": [
    "# models\n",
    "EMBEDDING_MODEL = \"text-embedding-ada-002\"\n",
    "GPT_MODEL = \"gpt-3.5-turbo\"  #can accommodate 4096 tokens\n",
    "TOKEN_BDUGET = 3596"
   ]
  },
  {
   "cell_type": "code",
   "execution_count": 28,
   "id": "4871baf8-5aff-4831-aced-9d13a6378f09",
   "metadata": {},
   "outputs": [],
   "source": [
    "client = OpenAI()"
   ]
  },
  {
   "cell_type": "code",
   "execution_count": 35,
   "id": "7fe17b83-3eaf-4dff-9879-40caa5824f95",
   "metadata": {},
   "outputs": [],
   "source": [
    "# calculate the number of tokens\n",
    "def num_tokens(text: str, model: str = GPT_MODEL) -> int:\n",
    "    \"\"\"Return the number of tokens in a string.\"\"\"\n",
    "    encoding = tiktoken.encoding_for_model(model)\n",
    "    return len(encoding.encode(text))\n"
   ]
  },
  {
   "cell_type": "markdown",
   "id": "d2beb959-e587-4f18-bf6b-2ac0bdfc1b00",
   "metadata": {},
   "source": [
    "### Establish a baseline by asking OpenAI some fashion questions without context"
   ]
  },
  {
   "cell_type": "code",
   "execution_count": 36,
   "id": "d034359d-c745-4b38-abf0-b91aa39e465c",
   "metadata": {},
   "outputs": [],
   "source": [
    "GENERIC_PROMPT=\"\"\"You are a fashion designer with over ten years of experience. \\n\n",
    "                Answer the question below. If you don't know, write \"I don't know.\" \"\"\""
   ]
  },
  {
   "cell_type": "code",
   "execution_count": 37,
   "id": "e5717f31-034e-4a24-b61f-3a7233ad7730",
   "metadata": {},
   "outputs": [],
   "source": [
    "prompt_template=\"\"\"\n",
    "Question: {}\n",
    "Answer:\n",
    "\"\"\" "
   ]
  },
  {
   "cell_type": "code",
   "execution_count": 38,
   "id": "2bb2f2a8-a43d-49f9-ba5c-d687855d39b4",
   "metadata": {},
   "outputs": [],
   "source": [
    "# Question and answer without a context\n",
    "def QnA_wo_context(question):\n",
    "     query = prompt_template.format(question)\n",
    "     messages = [ {\"role\":\"system\",\"content\":GENERIC_PROMPT},\n",
    "                  {\"role\":\"user\",\"content\":query} ]    \n",
    "     response = client.chat.completions.create(\n",
    "                messages=messages,\n",
    "                model=GPT_MODEL,\n",
    "                temperature=0,\n",
    "                )\n",
    "     return response.choices[0].message.content\n"
   ]
  },
  {
   "cell_type": "code",
   "execution_count": 39,
   "id": "33248f26-a15b-43d1-bb21-8bb8559cfc0c",
   "metadata": {},
   "outputs": [],
   "source": [
    "Q1_generic = QnA_wo_context(\"How to wear denim?\")"
   ]
  },
  {
   "cell_type": "code",
   "execution_count": 40,
   "id": "87874660-c87f-4397-a461-71c342e1999f",
   "metadata": {},
   "outputs": [
    {
     "name": "stdout",
     "output_type": "stream",
     "text": [
      "Denim can be worn in various ways depending on personal style and the occasion. Here are some common ways to wear denim:\n",
      "\n",
      "1. Jeans: The most popular way to wear denim is through jeans. They come in different cuts such as skinny, straight, bootcut, and boyfriend. Pair them with a t-shirt or blouse for a casual look, or dress them up with a blazer or heels for a more polished outfit.\n",
      "\n",
      "2. Denim jacket: A denim jacket is a versatile piece that can be worn with almost anything. It can be layered over a dress, paired with jeans for a denim-on-denim look, or worn with a skirt or shorts for a casual yet stylish outfit.\n",
      "\n",
      "3. Denim shirt: A denim shirt can be worn as a standalone top or layered over a t-shirt or tank top. It can be paired with jeans, skirts, or shorts for a casual and effortless look.\n",
      "\n",
      "4. Denim dress: A denim dress is a great option for a casual yet chic outfit. It can be styled with sneakers or sandals for a laid-back look, or dressed up with heels and accessories for a more formal occasion.\n",
      "\n",
      "5. Denim shorts: Denim shorts are perfect for warmer weather. They can be paired with a t-shirt or tank top for a casual look, or dressed up with a blouse and heels for a summer night out.\n",
      "\n",
      "Remember, denim is a versatile fabric that can be dressed up or down depending on the occasion and personal style. Experiment with different cuts, washes, and styles to find what works best for you.\n"
     ]
    }
   ],
   "source": [
    "print(Q1_generic)"
   ]
  },
  {
   "cell_type": "code",
   "execution_count": 60,
   "id": "82ce9f95-9eee-4fa8-a625-ea6c9b949bd7",
   "metadata": {},
   "outputs": [],
   "source": [
    "Q2_generic = QnA_wo_context(\"What is the latest trend in party wear?\")"
   ]
  },
  {
   "cell_type": "code",
   "execution_count": 61,
   "id": "255757c8-cb47-40ac-9752-9814ec2327b4",
   "metadata": {},
   "outputs": [
    {
     "name": "stdout",
     "output_type": "stream",
     "text": [
      "As a fashion designer, I can say that the latest trend in party wear is the incorporation of metallics and sequins. Shimmering dresses and tops are very popular right now, as they add a touch of glamour and sparkle to any party outfit. Additionally, statement sleeves, such as puffed or bishop sleeves, are also trending in party wear, as they add a dramatic and fashionable touch to dresses and tops.\n"
     ]
    }
   ],
   "source": [
    "print(Q2_generic)"
   ]
  },
  {
   "cell_type": "markdown",
   "id": "af578b46-f2c5-4806-9d5c-e5ad6b7a9f1b",
   "metadata": {},
   "source": [
    "### Test the prompt to answer fashion questions with a given context"
   ]
  },
  {
   "cell_type": "code",
   "execution_count": 44,
   "id": "f5fc57c2-876b-4b80-9582-61e278701f5e",
   "metadata": {},
   "outputs": [],
   "source": [
    "CONTEXT_PROMPT=\"\"\"You are a fashion designer with over ten years of experience. \\n\n",
    "                Answer the question below about the 2023 Fashion Trend using the provided context. If you don't know, write \"I don't know.\" \"\"\""
   ]
  },
  {
   "cell_type": "code",
   "execution_count": 45,
   "id": "7f6e8749-4104-44a4-b10b-57f2fc65cc34",
   "metadata": {},
   "outputs": [],
   "source": [
    "context_prompt_template=\"\"\"\n",
    "Context: {}\n",
    "Question: {}\n",
    "Answer:\n",
    "\"\"\" "
   ]
  },
  {
   "cell_type": "code",
   "execution_count": 46,
   "id": "13f2dcd7",
   "metadata": {},
   "outputs": [],
   "source": [
    "def QnA(context,question):\n",
    "     query = context_prompt_template.format(context,question)\n",
    "     messages = [ {\"role\":\"system\",\"content\":CONTEXT_PROMPT},\n",
    "                  {\"role\":\"user\",\"content\":query} ]    \n",
    "\n",
    "     #print (messages)\n",
    "\n",
    "     response = client.chat.completions.create(\n",
    "                 messages=messages,\n",
    "                 model=GPT_MODEL,\n",
    "                 temperature=0,\n",
    "                )\n",
    "\n",
    "     return response.choices[0].message.content\n",
    "    "
   ]
  },
  {
   "cell_type": "markdown",
   "id": "b6b62eb5-9225-44be-a930-97d597130b5a",
   "metadata": {},
   "source": [
    "### do a quick test with the first 10 reviews in the 2023 fashion dataset"
   ]
  },
  {
   "cell_type": "code",
   "execution_count": 48,
   "id": "42664c97-a6c3-4882-b52a-6bd80ce77d92",
   "metadata": {},
   "outputs": [],
   "source": [
    "context = \"\\n\\n\".join(df[\"text\"][:10].tolist())\n"
   ]
  },
  {
   "cell_type": "code",
   "execution_count": 49,
   "id": "53181ecb-24e2-49f5-bde3-c5114eff98d3",
   "metadata": {},
   "outputs": [
    {
     "name": "stdout",
     "output_type": "stream",
     "text": [
      "In 2023, denim is reimagined and can be worn in various ways. You can opt for timeless cuts and silhouettes that can stay in your closet rotation once the novelty wears off. Some options include double-waisted jeans, carpenter jeans, strapless dresses, shirting, undergarments, and even shoes in denim. Denim-on-denim is also a trend, so you can try pairing a denim maxi skirt with a corresponding denim corset top. Additionally, you can experiment with denim accessories like sculptural bags.\n"
     ]
    }
   ],
   "source": [
    "print(QnA(context,\"How do I wear denim?\"))"
   ]
  },
  {
   "cell_type": "code",
   "execution_count": 59,
   "id": "c403f543",
   "metadata": {},
   "outputs": [
    {
     "name": "stdout",
     "output_type": "stream",
     "text": [
      "The latest trend in party wear for 2023 is shine for the daytime. Designers are making a case for wearable separates that can spice up even the most basic staples like tank tops and blue jeans with a touch of shine. This trend comes in all metallic shades, but the liquid silver look is particularly favored.\n"
     ]
    }
   ],
   "source": [
    "print(QnA(context,\"What is the latest trend in party wear?\"))"
   ]
  },
  {
   "cell_type": "markdown",
   "id": "caeff83b-31a9-41ee-889e-d7d6482702e4",
   "metadata": {},
   "source": [
    "### Now use embedding to rank the contextual information according to its relevance to the question, used cosine distance as a measure of relevance."
   ]
  },
  {
   "cell_type": "code",
   "execution_count": 51,
   "id": "f8298b80-03b0-426c-ac9c-d18d50dcceb5",
   "metadata": {},
   "outputs": [],
   "source": [
    "def embed_fn(x):\n",
    "    return client.embeddings.create(\n",
    "        model=EMBEDDING_MODEL,\n",
    "        input=x\n",
    "    ).data[0].embedding"
   ]
  },
  {
   "cell_type": "code",
   "execution_count": 52,
   "id": "68acb962-af88-4823-9c78-9a25f5928e8c",
   "metadata": {},
   "outputs": [],
   "source": [
    "# embedding for the dataframe\n",
    "df[\"embedding\"] = df[\"text\"].apply(embed_fn)"
   ]
  },
  {
   "cell_type": "code",
   "execution_count": 54,
   "id": "81587bc0-15c6-445b-bc0c-24cd0ddffcd1",
   "metadata": {},
   "outputs": [
    {
     "data": {
      "text/html": [
       "<div>\n",
       "<style scoped>\n",
       "    .dataframe tbody tr th:only-of-type {\n",
       "        vertical-align: middle;\n",
       "    }\n",
       "\n",
       "    .dataframe tbody tr th {\n",
       "        vertical-align: top;\n",
       "    }\n",
       "\n",
       "    .dataframe thead th {\n",
       "        text-align: right;\n",
       "    }\n",
       "</style>\n",
       "<table border=\"1\" class=\"dataframe\">\n",
       "  <thead>\n",
       "    <tr style=\"text-align: right;\">\n",
       "      <th></th>\n",
       "      <th>URL</th>\n",
       "      <th>text</th>\n",
       "      <th>Source</th>\n",
       "      <th>embedding</th>\n",
       "    </tr>\n",
       "  </thead>\n",
       "  <tbody>\n",
       "    <tr>\n",
       "      <th>0</th>\n",
       "      <td>https://www.refinery29.com/en-us/fashion-trend...</td>\n",
       "      <td>2023 Fashion Trend: Red. Glossy red hues took ...</td>\n",
       "      <td>7 Fashion Trends That Will Take Over 2023 — Sh...</td>\n",
       "      <td>[-0.02112550474703312, -0.021673880517482758, ...</td>\n",
       "    </tr>\n",
       "    <tr>\n",
       "      <th>1</th>\n",
       "      <td>https://www.refinery29.com/en-us/fashion-trend...</td>\n",
       "      <td>2023 Fashion Trend: Cargo Pants. Utilitarian w...</td>\n",
       "      <td>7 Fashion Trends That Will Take Over 2023 — Sh...</td>\n",
       "      <td>[-0.0017983651487156749, -0.029038064181804657...</td>\n",
       "    </tr>\n",
       "    <tr>\n",
       "      <th>2</th>\n",
       "      <td>https://www.refinery29.com/en-us/fashion-trend...</td>\n",
       "      <td>2023 Fashion Trend: Sheer Clothing. Bare it al...</td>\n",
       "      <td>7 Fashion Trends That Will Take Over 2023 — Sh...</td>\n",
       "      <td>[-0.010296107269823551, -0.02123020775616169, ...</td>\n",
       "    </tr>\n",
       "    <tr>\n",
       "      <th>3</th>\n",
       "      <td>https://www.refinery29.com/en-us/fashion-trend...</td>\n",
       "      <td>2023 Fashion Trend: Denim Reimagined. From dou...</td>\n",
       "      <td>7 Fashion Trends That Will Take Over 2023 — Sh...</td>\n",
       "      <td>[-0.01552637666463852, -0.005442269612103701, ...</td>\n",
       "    </tr>\n",
       "    <tr>\n",
       "      <th>4</th>\n",
       "      <td>https://www.refinery29.com/en-us/fashion-trend...</td>\n",
       "      <td>2023 Fashion Trend: Shine For The Daytime. The...</td>\n",
       "      <td>7 Fashion Trends That Will Take Over 2023 — Sh...</td>\n",
       "      <td>[-0.0045564789324998856, 0.0004120265075471252...</td>\n",
       "    </tr>\n",
       "  </tbody>\n",
       "</table>\n",
       "</div>"
      ],
      "text/plain": [
       "                                                 URL  \\\n",
       "0  https://www.refinery29.com/en-us/fashion-trend...   \n",
       "1  https://www.refinery29.com/en-us/fashion-trend...   \n",
       "2  https://www.refinery29.com/en-us/fashion-trend...   \n",
       "3  https://www.refinery29.com/en-us/fashion-trend...   \n",
       "4  https://www.refinery29.com/en-us/fashion-trend...   \n",
       "\n",
       "                                                text  \\\n",
       "0  2023 Fashion Trend: Red. Glossy red hues took ...   \n",
       "1  2023 Fashion Trend: Cargo Pants. Utilitarian w...   \n",
       "2  2023 Fashion Trend: Sheer Clothing. Bare it al...   \n",
       "3  2023 Fashion Trend: Denim Reimagined. From dou...   \n",
       "4  2023 Fashion Trend: Shine For The Daytime. The...   \n",
       "\n",
       "                                              Source  \\\n",
       "0  7 Fashion Trends That Will Take Over 2023 — Sh...   \n",
       "1  7 Fashion Trends That Will Take Over 2023 — Sh...   \n",
       "2  7 Fashion Trends That Will Take Over 2023 — Sh...   \n",
       "3  7 Fashion Trends That Will Take Over 2023 — Sh...   \n",
       "4  7 Fashion Trends That Will Take Over 2023 — Sh...   \n",
       "\n",
       "                                           embedding  \n",
       "0  [-0.02112550474703312, -0.021673880517482758, ...  \n",
       "1  [-0.0017983651487156749, -0.029038064181804657...  \n",
       "2  [-0.010296107269823551, -0.02123020775616169, ...  \n",
       "3  [-0.01552637666463852, -0.005442269612103701, ...  \n",
       "4  [-0.0045564789324998856, 0.0004120265075471252...  "
      ]
     },
     "execution_count": 54,
     "metadata": {},
     "output_type": "execute_result"
    }
   ],
   "source": [
    "df.head(5)"
   ]
  },
  {
   "cell_type": "code",
   "execution_count": 56,
   "id": "06293214-f718-4211-ae06-2af3eaec1899",
   "metadata": {},
   "outputs": [],
   "source": [
    "## embedding of the question\n",
    "def relevant_context(question,df,top_n=20):\n",
    "    q_embed = embed_fn(question)\n",
    "    cosdis = df[\"embedding\"].apply(lambda x: 1 - spatial.distance.cosine(x, q_embed))\n",
    "    cosdis = cosdis.to_numpy()\n",
    "    sorted_index = np.argsort(cosdis)[::-1].tolist() \n",
    "\n",
    "    reviews = []\n",
    "    total_tokens = 0\n",
    "\n",
    "    for idx in sorted_index[:top_n]:\n",
    "\n",
    "        new_review = df.iloc[idx][\"text\"] +\"\\n\\n\"\n",
    "        tokens = num_tokens(new_review)\n",
    "        \n",
    "        #print(tokens,total_tokens)\n",
    "\n",
    "        if((total_tokens+tokens) <= TOKEN_BDUGET):\n",
    "            reviews.append(new_review)\n",
    "            total_tokens = total_tokens + tokens\n",
    "        else:\n",
    "            break\n",
    "\n",
    "\n",
    "    ans = QnA(reviews,question)\n",
    "    \n",
    "    return ans\n"
   ]
  },
  {
   "cell_type": "code",
   "execution_count": 57,
   "id": "dfbaa0ed-b8f7-4fea-9f61-c494a4223e58",
   "metadata": {},
   "outputs": [],
   "source": [
    "Q1_2023 = relevant_context(\"How do I wear denim?\",df,top_n=10)"
   ]
  },
  {
   "cell_type": "code",
   "execution_count": 58,
   "id": "e02cde11-dab5-431b-a29f-72aa800c554d",
   "metadata": {},
   "outputs": [
    {
     "name": "stdout",
     "output_type": "stream",
     "text": [
      "In 2023, there are several ways to wear denim according to the fashion trends. Some popular options include:\n",
      "\n",
      "1. Denim Reimagined: Designers are incorporating denim into various garments such as strapless dresses, shirting, undergarments, and even shoes like thigh-high-boot-jean hybrids. Opt for timeless cuts and silhouettes that can stay in your closet rotation once the novelty wears off.\n",
      "\n",
      "2. Baggy Denim: Denim remains loose and baggy, with light-wash jeans being a versatile option. Pair them with a worn-in flannel or experiment with denim-on-denim looks.\n",
      "\n",
      "3. Relaxed Silhouettes: In a post-lockdown world, relaxed silhouettes are favored, even in denim choices. Wide-leg trousers and slouchy-fit jeans are popular. Take styling cues from fashion influencers like Asake for inspiration.\n",
      "\n",
      "4. '90s and '00s Revival: The '90s and '00s fashion trends are making a comeback, including grunge and minimalism. Look for denim maxi skirts, bomber jackets, and biker jackets to embrace this nostalgic style.\n",
      "\n",
      "5. Detailed Denim: Spring 2023 brings not-so-basic denim with intricate details. Look for pieces like maxiskirts with unique designs to add interest to your denim outfits.\n",
      "\n",
      "6. Bold Color Bottoms: Experiment with bold color options for your denim bottoms. Cherry red pants, for example, can be paired with various tops and shoes to create vibrant and unexpected looks.\n",
      "\n",
      "7. Denim-On-Denim: The Canadian tuxedo trend is back, allowing you to wear denim from head to toe. Try pairing a denim maxi skirt with a corresponding denim corset top and chunky platforms for a stylish ensemble.\n",
      "\n",
      "8. Indie Sleaze: This trend embraces an edgy sensibility with muddy hues, distressed denim, layered tops, army jackets, and chunky silver hardware. Look for modern utility detailing and cargo shapes to incorporate this style into your denim outfits.\n",
      "\n",
      "Remember to choose the denim styles and trends that resonate with your personal style and make you feel confident.\n"
     ]
    }
   ],
   "source": [
    "print(Q1_2023)"
   ]
  },
  {
   "cell_type": "code",
   "execution_count": 64,
   "id": "267f1dc5-0b56-47c4-b9c8-815aeec16676",
   "metadata": {},
   "outputs": [],
   "source": [
    "Q2_2023 = relevant_context(\"What is the latest trend in party wear?\",df,top_n=10)"
   ]
  },
  {
   "cell_type": "code",
   "execution_count": 65,
   "id": "da6b6e54-8dcf-4cfb-a4c0-edf67fca39ee",
   "metadata": {},
   "outputs": [
    {
     "name": "stdout",
     "output_type": "stream",
     "text": [
      "The latest trend in party wear for 2023 is a throwback to the '80s with frothy fabrications, high-shine lamé, leopard print, and the return of the puffball hemline. It encourages playing dress-up and not taking oneself too seriously.\n"
     ]
    }
   ],
   "source": [
    "print(Q2_2023)"
   ]
  },
  {
   "cell_type": "markdown",
   "id": "1783f146",
   "metadata": {},
   "source": [
    "## Custom Performance Demonstration\n",
    "\n",
    "TODO: In the cells below, demonstrate the performance of your custom query using at least 2 questions. For each question, show the answer from a basic `Completion` model query as well as the answer from your custom query."
   ]
  },
  {
   "cell_type": "markdown",
   "id": "4f11fdc0",
   "metadata": {},
   "source": [
    "### Question 1: How do I wear denim?"
   ]
  },
  {
   "cell_type": "code",
   "execution_count": 68,
   "id": "4901c850",
   "metadata": {},
   "outputs": [
    {
     "name": "stdout",
     "output_type": "stream",
     "text": [
      "### Answer for basic model query:\n",
      " Denim can be worn in various ways depending on personal style and the occasion. Here are some common ways to wear denim:\n",
      "\n",
      "1. Jeans: The most popular way to wear denim is through jeans. They come in different cuts such as skinny, straight, bootcut, and boyfriend. Pair them with a t-shirt or blouse for a casual look, or dress them up with a blazer or heels for a more polished outfit.\n",
      "\n",
      "2. Denim jacket: A denim jacket is a versatile piece that can be worn with almost anything. It can be layered over a dress, paired with jeans for a denim-on-denim look, or worn with a skirt or shorts for a casual yet stylish outfit.\n",
      "\n",
      "3. Denim shirt: A denim shirt can be worn as a standalone top or layered over a t-shirt or tank top. It can be paired with jeans, skirts, or shorts for a casual and effortless look.\n",
      "\n",
      "4. Denim dress: A denim dress is a great option for a casual yet chic outfit. It can be styled with sneakers or sandals for a laid-back look, or dressed up with heels and accessories for a more formal occasion.\n",
      "\n",
      "5. Denim shorts: Denim shorts are perfect for warmer weather. They can be paired with a t-shirt or tank top for a casual look, or dressed up with a blouse and heels for a summer night out.\n",
      "\n",
      "Remember, denim is a versatile fabric that can be dressed up or down depending on the occasion and personal style. Experiment with different cuts, washes, and styles to find what works best for you.\n"
     ]
    }
   ],
   "source": [
    "print(f\"### Answer for basic model query:\\n {Q1_generic}\")"
   ]
  },
  {
   "cell_type": "code",
   "execution_count": 74,
   "id": "bd7a093b",
   "metadata": {
    "scrolled": true
   },
   "outputs": [
    {
     "name": "stdout",
     "output_type": "stream",
     "text": [
      "### Answer for custom query:\n",
      " In 2023, there are several ways to wear denim according to the fashion trends. Some popular options include:\n",
      "\n",
      "1. Denim Reimagined: Designers are incorporating denim into various garments such as strapless dresses, shirting, undergarments, and even shoes like thigh-high-boot-jean hybrids. Opt for timeless cuts and silhouettes that can stay in your closet rotation once the novelty wears off.\n",
      "\n",
      "2. Baggy Denim: Denim remains loose and baggy, with light-wash jeans being a versatile option. Pair them with a worn-in flannel or experiment with denim-on-denim looks.\n",
      "\n",
      "3. Relaxed Silhouettes: In a post-lockdown world, relaxed silhouettes are favored, even in denim choices. Wide-leg trousers and slouchy-fit jeans are popular. Take styling cues from fashion influencers like Asake for inspiration.\n",
      "\n",
      "4. '90s and '00s Revival: The '90s and '00s fashion trends are making a comeback, including grunge and minimalism. Look for denim maxi skirts, bomber jackets, and biker jackets to embrace this nostalgic style.\n",
      "\n",
      "5. Detailed Denim: Spring 2023 brings not-so-basic denim with intricate details. Look for pieces like maxiskirts with unique designs to add interest to your denim outfits.\n",
      "\n",
      "6. Bold Color Bottoms: Experiment with bold color options for your denim bottoms. Cherry red pants, for example, can be paired with various tops and shoes to create vibrant and unexpected looks.\n",
      "\n",
      "7. Denim-On-Denim: The Canadian tuxedo trend is back, allowing you to wear denim from head to toe. Try pairing a denim maxi skirt with a corresponding denim corset top and chunky platforms for a stylish ensemble.\n",
      "\n",
      "8. Indie Sleaze: This trend embraces an edgy sensibility with muddy hues, distressed denim, layered tops, army jackets, and chunky silver hardware. Look for modern utility detailing and cargo shapes to incorporate this style into your denim outfits.\n",
      "\n",
      "Remember to choose the denim styles and trends that resonate with your personal style and make you feel confident.\n"
     ]
    }
   ],
   "source": [
    "print(f\"### Answer for custom query:\\n {Q1_2023}\")"
   ]
  },
  {
   "cell_type": "markdown",
   "id": "6e86e37c",
   "metadata": {},
   "source": [
    "### Question 2: What is the latest trend in party wear?"
   ]
  },
  {
   "cell_type": "code",
   "execution_count": 75,
   "id": "6f646989",
   "metadata": {},
   "outputs": [
    {
     "name": "stdout",
     "output_type": "stream",
     "text": [
      "### Answer for basic model query:\n",
      " As a fashion designer, I can say that the latest trend in party wear is the incorporation of metallics and sequins. Shimmering dresses and tops are very popular right now, as they add a touch of glamour and sparkle to any party outfit. Additionally, statement sleeves, such as puffed or bishop sleeves, are also trending in party wear, as they add a dramatic and fashionable touch to dresses and tops.\n"
     ]
    }
   ],
   "source": [
    "print(f\"### Answer for basic model query:\\n {Q2_generic}\")"
   ]
  },
  {
   "cell_type": "code",
   "execution_count": 76,
   "id": "7ea2772a-e071-4958-818c-dd9beb8d8e18",
   "metadata": {},
   "outputs": [
    {
     "name": "stdout",
     "output_type": "stream",
     "text": [
      "### Answer for custom  model query:\n",
      " The latest trend in party wear for 2023 is a throwback to the '80s with frothy fabrications, high-shine lamé, leopard print, and the return of the puffball hemline. It encourages playing dress-up and not taking oneself too seriously.\n"
     ]
    }
   ],
   "source": [
    "print(f\"### Answer for custom  model query:\\n {Q2_2023}\")"
   ]
  },
  {
   "cell_type": "markdown",
   "id": "0a9625c5-b8a4-47b3-90e4-58bc329fc874",
   "metadata": {},
   "source": [
    "### There are significant differences between basic and custom queries. With the provided context, custom queries provide more specific information."
   ]
  },
  {
   "cell_type": "code",
   "execution_count": null,
   "id": "7e776b3b-37a9-4ea2-8c50-cc703fc858f5",
   "metadata": {},
   "outputs": [],
   "source": []
  }
 ],
 "metadata": {
  "kernelspec": {
   "display_name": "OpenAI",
   "language": "python",
   "name": "openai"
  },
  "language_info": {
   "codemirror_mode": {
    "name": "ipython",
    "version": 3
   },
   "file_extension": ".py",
   "mimetype": "text/x-python",
   "name": "python",
   "nbconvert_exporter": "python",
   "pygments_lexer": "ipython3",
   "version": "3.10.13"
  }
 },
 "nbformat": 4,
 "nbformat_minor": 5
}
